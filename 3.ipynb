{
 "cells": [
  {
   "cell_type": "markdown",
   "id": "373cf1e1",
   "metadata": {},
   "source": [
    "# Built-In Data Structures, Functions, and Files"
   ]
  },
  {
   "cell_type": "markdown",
   "id": "ef54d711",
   "metadata": {},
   "source": [
    "## Data Structures and Sequences"
   ]
  },
  {
   "cell_type": "markdown",
   "id": "3a58a0d7",
   "metadata": {},
   "source": [
    "### Tuple\n",
    "This is an ordered collection of items in Python that is immutable (cannot be changed after creation).\n",
    "\n",
    "The easiest way to create one is with a comma-separated sequence of values wrapped in parentheses.\n"
   ]
  },
  {
   "cell_type": "code",
   "execution_count": 1,
   "id": "c2dfac21",
   "metadata": {},
   "outputs": [],
   "source": [
    "tup = (4, 5, 6)"
   ]
  },
  {
   "cell_type": "code",
   "execution_count": 2,
   "id": "26b977cd",
   "metadata": {},
   "outputs": [
    {
     "data": {
      "text/plain": [
       "(4, 5, 6)"
      ]
     },
     "execution_count": 2,
     "metadata": {},
     "output_type": "execute_result"
    }
   ],
   "source": [
    "tup"
   ]
  },
  {
   "cell_type": "markdown",
   "id": "6b9ef88d",
   "metadata": {},
   "source": [
    "#####\n",
    "The parentheses can also be omitted in many instances."
   ]
  },
  {
   "cell_type": "code",
   "execution_count": 3,
   "id": "26a780c4",
   "metadata": {},
   "outputs": [],
   "source": [
    "tup = 4, 5, 6"
   ]
  },
  {
   "cell_type": "code",
   "execution_count": 4,
   "id": "5c3f1c23",
   "metadata": {},
   "outputs": [
    {
     "data": {
      "text/plain": [
       "(4, 5, 6)"
      ]
     },
     "execution_count": 4,
     "metadata": {},
     "output_type": "execute_result"
    }
   ],
   "source": [
    "tup"
   ]
  },
  {
   "cell_type": "markdown",
   "id": "53c985dd",
   "metadata": {},
   "source": [
    "#####\n",
    "Any sequence or iterator can be converted by invoking tuple."
   ]
  },
  {
   "cell_type": "code",
   "execution_count": 5,
   "id": "54304ac9",
   "metadata": {},
   "outputs": [
    {
     "data": {
      "text/plain": [
       "(4, 0, 2)"
      ]
     },
     "execution_count": 5,
     "metadata": {},
     "output_type": "execute_result"
    }
   ],
   "source": [
    "tuple([4, 0, 2])"
   ]
  },
  {
   "cell_type": "code",
   "execution_count": 6,
   "id": "fef1af6f",
   "metadata": {},
   "outputs": [],
   "source": [
    "tup = tuple('string')"
   ]
  },
  {
   "cell_type": "code",
   "execution_count": 7,
   "id": "2802a812",
   "metadata": {},
   "outputs": [
    {
     "data": {
      "text/plain": [
       "('s', 't', 'r', 'i', 'n', 'g')"
      ]
     },
     "execution_count": 7,
     "metadata": {},
     "output_type": "execute_result"
    }
   ],
   "source": [
    "tup"
   ]
  },
  {
   "cell_type": "markdown",
   "id": "98cac3b8",
   "metadata": {},
   "source": [
    "#####\n",
    "Elements can be accessed with square brackets [] as with most other sequence types.\n",
    "\n",
    "Sequences are 0-indexed."
   ]
  },
  {
   "cell_type": "code",
   "execution_count": 9,
   "id": "e6d8fbd9",
   "metadata": {},
   "outputs": [
    {
     "data": {
      "text/plain": [
       "'s'"
      ]
     },
     "execution_count": 9,
     "metadata": {},
     "output_type": "execute_result"
    }
   ],
   "source": [
    "tup[0]"
   ]
  },
  {
   "cell_type": "markdown",
   "id": "0ea05108",
   "metadata": {},
   "source": [
    "#####\n",
    "It's necessary to enclose the values in parentheses, when defining tuples within more complicated expressions."
   ]
  },
  {
   "cell_type": "code",
   "execution_count": 10,
   "id": "2d9c4d4b",
   "metadata": {},
   "outputs": [],
   "source": [
    "nested_tup = (4, 5, 6), (7, 8)\n"
   ]
  },
  {
   "cell_type": "code",
   "execution_count": 12,
   "id": "4b5bfc91",
   "metadata": {},
   "outputs": [
    {
     "data": {
      "text/plain": [
       "((4, 5, 6), (7, 8))"
      ]
     },
     "execution_count": 12,
     "metadata": {},
     "output_type": "execute_result"
    }
   ],
   "source": [
    "nested_tup"
   ]
  },
  {
   "cell_type": "code",
   "execution_count": 13,
   "id": "02921eb8",
   "metadata": {},
   "outputs": [
    {
     "data": {
      "text/plain": [
       "(4, 5, 6)"
      ]
     },
     "execution_count": 13,
     "metadata": {},
     "output_type": "execute_result"
    }
   ],
   "source": [
    "nested_tup[0]"
   ]
  },
  {
   "cell_type": "code",
   "execution_count": 14,
   "id": "9d5f9b6f",
   "metadata": {},
   "outputs": [
    {
     "data": {
      "text/plain": [
       "(7, 8)"
      ]
     },
     "execution_count": 14,
     "metadata": {},
     "output_type": "execute_result"
    }
   ],
   "source": [
    "nested_tup[1]"
   ]
  },
  {
   "cell_type": "markdown",
   "id": "4665d895",
   "metadata": {},
   "source": [
    "#####\n",
    "Once a tuple is created it's impossible to modify the object stored in each slot. Unlike objects stored in a a tuple as they may be mutable themselves."
   ]
  },
  {
   "cell_type": "code",
   "execution_count": 15,
   "id": "f30ed399",
   "metadata": {},
   "outputs": [],
   "source": [
    "tup = tuple(['foo', [1, 2], True])\n"
   ]
  },
  {
   "cell_type": "code",
   "execution_count": 16,
   "id": "9da94a11",
   "metadata": {},
   "outputs": [
    {
     "ename": "TypeError",
     "evalue": "'tuple' object does not support item assignment",
     "output_type": "error",
     "traceback": [
      "\u001b[1;31m---------------------------------------------------------------------------\u001b[0m",
      "\u001b[1;31mTypeError\u001b[0m                                 Traceback (most recent call last)",
      "Cell \u001b[1;32mIn[16], line 1\u001b[0m\n\u001b[1;32m----> 1\u001b[0m tup[\u001b[38;5;241m2\u001b[39m] \u001b[38;5;241m=\u001b[39m \u001b[38;5;28;01mFalse\u001b[39;00m\n",
      "\u001b[1;31mTypeError\u001b[0m: 'tuple' object does not support item assignment"
     ]
    }
   ],
   "source": [
    "tup[2] = False  # This will raise a TypeError because tuples are immutable"
   ]
  },
  {
   "cell_type": "markdown",
   "id": "8aaac3cb",
   "metadata": {},
   "source": [
    "#####\n",
    "If an objects is mutable inside a tuple is mutable, such as a list, you can modify it in place."
   ]
  },
  {
   "cell_type": "code",
   "execution_count": 17,
   "id": "edc1b90e",
   "metadata": {},
   "outputs": [],
   "source": [
    "tup[1].append(3)  # This will work because the list inside the tuple is mutable"
   ]
  },
  {
   "cell_type": "code",
   "execution_count": 18,
   "id": "8d6940d2",
   "metadata": {},
   "outputs": [
    {
     "data": {
      "text/plain": [
       "('foo', [1, 2, 3], True)"
      ]
     },
     "execution_count": 18,
     "metadata": {},
     "output_type": "execute_result"
    }
   ],
   "source": [
    "tup"
   ]
  },
  {
   "cell_type": "markdown",
   "id": "a8044939",
   "metadata": {},
   "source": [
    "#####\n",
    "Tuples can be concatenated using the + operator to produce longer tuples"
   ]
  },
  {
   "cell_type": "code",
   "execution_count": 19,
   "id": "7294df85",
   "metadata": {},
   "outputs": [
    {
     "data": {
      "text/plain": [
       "(4, None, 'foo', 6, 0, 'bar')"
      ]
     },
     "execution_count": 19,
     "metadata": {},
     "output_type": "execute_result"
    }
   ],
   "source": [
    "(4, None , 'foo') + (6, 0) + ('bar',)"
   ]
  },
  {
   "cell_type": "markdown",
   "id": "420a08de",
   "metadata": {},
   "source": [
    "#####\n",
    "Multiplying a tuple by an integer, as with lists, has the effect of concatenating that many copies of the tuple."
   ]
  },
  {
   "cell_type": "code",
   "execution_count": 20,
   "id": "a0730e65",
   "metadata": {},
   "outputs": [
    {
     "data": {
      "text/plain": [
       "('foo', 'bar', 'foo', 'bar', 'foo', 'bar', 'foo', 'bar')"
      ]
     },
     "execution_count": 20,
     "metadata": {},
     "output_type": "execute_result"
    }
   ],
   "source": [
    "('foo', 'bar') * 4"
   ]
  },
  {
   "cell_type": "markdown",
   "id": "92ada89a",
   "metadata": {},
   "source": [
    "#####\n",
    "NB: The objects themselves are not copied, only the references to them."
   ]
  },
  {
   "cell_type": "markdown",
   "id": "d922d112",
   "metadata": {},
   "source": [
    "#### Unpacking Tuples\n",
    "Tuple unpacking is the process of extracting individual values from a tuple and assigning them to separate variables in a single operation. It's like opening a package and taking out each item to put in different places."
   ]
  },
  {
   "cell_type": "code",
   "execution_count": 21,
   "id": "800e5b66",
   "metadata": {},
   "outputs": [],
   "source": [
    "tup = (4, 5, 6)"
   ]
  },
  {
   "cell_type": "code",
   "execution_count": 22,
   "id": "5c666fe6",
   "metadata": {},
   "outputs": [],
   "source": [
    "a, b, c = tup"
   ]
  },
  {
   "cell_type": "code",
   "execution_count": 23,
   "id": "b9d6f636",
   "metadata": {},
   "outputs": [
    {
     "data": {
      "text/plain": [
       "5"
      ]
     },
     "execution_count": 23,
     "metadata": {},
     "output_type": "execute_result"
    }
   ],
   "source": [
    "b"
   ]
  },
  {
   "cell_type": "markdown",
   "id": "760afb78",
   "metadata": {},
   "source": [
    "#####\n",
    "Even sequences with nested tuples can be unpacked"
   ]
  },
  {
   "cell_type": "code",
   "execution_count": 24,
   "id": "b04b38cb",
   "metadata": {},
   "outputs": [],
   "source": [
    "tup = 4, 5, (6, 7)"
   ]
  },
  {
   "cell_type": "code",
   "execution_count": 25,
   "id": "90866620",
   "metadata": {},
   "outputs": [],
   "source": [
    "a, b, (c, d) = tup"
   ]
  },
  {
   "cell_type": "code",
   "execution_count": 26,
   "id": "ce84d055",
   "metadata": {},
   "outputs": [
    {
     "data": {
      "text/plain": [
       "7"
      ]
     },
     "execution_count": 26,
     "metadata": {},
     "output_type": "execute_result"
    }
   ],
   "source": [
    "d"
   ]
  },
  {
   "cell_type": "markdown",
   "id": "e9ef193c",
   "metadata": {},
   "source": [
    "#####\n",
    "Using the unpacking tuple functionality you can easily swap variable names, a task that in many languages might look like."
   ]
  },
  {
   "cell_type": "code",
   "execution_count": 27,
   "id": "c3d4296b",
   "metadata": {},
   "outputs": [],
   "source": [
    "tmp = a\n",
    "a = b\n",
    "b = tmp"
   ]
  },
  {
   "cell_type": "markdown",
   "id": "029638a6",
   "metadata": {},
   "source": [
    "#####\n",
    "But in python, the swap can be done like shown below:"
   ]
  },
  {
   "cell_type": "code",
   "execution_count": 28,
   "id": "927d85d0",
   "metadata": {},
   "outputs": [],
   "source": [
    "a, b = 1, 2"
   ]
  },
  {
   "cell_type": "code",
   "execution_count": 29,
   "id": "de4ec52f",
   "metadata": {},
   "outputs": [
    {
     "data": {
      "text/plain": [
       "1"
      ]
     },
     "execution_count": 29,
     "metadata": {},
     "output_type": "execute_result"
    }
   ],
   "source": [
    "a"
   ]
  },
  {
   "cell_type": "code",
   "execution_count": 30,
   "id": "4d0ac363",
   "metadata": {},
   "outputs": [
    {
     "data": {
      "text/plain": [
       "2"
      ]
     },
     "execution_count": 30,
     "metadata": {},
     "output_type": "execute_result"
    }
   ],
   "source": [
    "b"
   ]
  },
  {
   "cell_type": "code",
   "execution_count": 31,
   "id": "d9d6d102",
   "metadata": {},
   "outputs": [],
   "source": [
    "b, a = a, b"
   ]
  },
  {
   "cell_type": "code",
   "execution_count": 32,
   "id": "40069e86",
   "metadata": {},
   "outputs": [
    {
     "data": {
      "text/plain": [
       "2"
      ]
     },
     "execution_count": 32,
     "metadata": {},
     "output_type": "execute_result"
    }
   ],
   "source": [
    "a "
   ]
  },
  {
   "cell_type": "code",
   "execution_count": 33,
   "id": "56557e02",
   "metadata": {},
   "outputs": [
    {
     "data": {
      "text/plain": [
       "1"
      ]
     },
     "execution_count": 33,
     "metadata": {},
     "output_type": "execute_result"
    }
   ],
   "source": [
    "b"
   ]
  },
  {
   "cell_type": "markdown",
   "id": "07eaed1e",
   "metadata": {},
   "source": [
    "#####\n",
    "Variable unpacking is commonly used is iterating over sequences of tuples or lists."
   ]
  },
  {
   "cell_type": "code",
   "execution_count": 34,
   "id": "db83c8ce",
   "metadata": {},
   "outputs": [],
   "source": [
    "seq = [(1, 2, 3), (4, 5, 6), (7, 8, 9)]"
   ]
  },
  {
   "cell_type": "code",
   "execution_count": 35,
   "id": "8aaadfbd",
   "metadata": {},
   "outputs": [
    {
     "name": "stdout",
     "output_type": "stream",
     "text": [
      "a=1, b=2, c=3\n",
      "a=4, b=5, c=6\n",
      "a=7, b=8, c=9\n"
     ]
    }
   ],
   "source": [
    "for a, b, c in seq:\n",
    "    print(f'a={a}, b={b}, c={c}')"
   ]
  },
  {
   "cell_type": "markdown",
   "id": "e51ec60e",
   "metadata": {},
   "source": [
    "#####\n",
    "In instances where one wants to \"pluck\" a few elements from the beginning of a tuple. A special syntax *rest is used to do this. And is also used in function signatures to capture an arbitrarily long list of positional arguments."
   ]
  },
  {
   "cell_type": "code",
   "execution_count": 36,
   "id": "a0c34ea2",
   "metadata": {},
   "outputs": [],
   "source": [
    "values = 1, 2, 3, 4 ,5 "
   ]
  },
  {
   "cell_type": "code",
   "execution_count": 37,
   "id": "98bc376d",
   "metadata": {},
   "outputs": [],
   "source": [
    "a, b, *rest = values"
   ]
  },
  {
   "cell_type": "code",
   "execution_count": 38,
   "id": "7003e590",
   "metadata": {},
   "outputs": [
    {
     "data": {
      "text/plain": [
       "1"
      ]
     },
     "execution_count": 38,
     "metadata": {},
     "output_type": "execute_result"
    }
   ],
   "source": [
    "a"
   ]
  },
  {
   "cell_type": "code",
   "execution_count": 39,
   "id": "1fdd471d",
   "metadata": {},
   "outputs": [
    {
     "data": {
      "text/plain": [
       "2"
      ]
     },
     "execution_count": 39,
     "metadata": {},
     "output_type": "execute_result"
    }
   ],
   "source": [
    "b"
   ]
  },
  {
   "cell_type": "code",
   "execution_count": 40,
   "id": "e7ddc62d",
   "metadata": {},
   "outputs": [
    {
     "data": {
      "text/plain": [
       "[3, 4, 5]"
      ]
     },
     "execution_count": 40,
     "metadata": {},
     "output_type": "execute_result"
    }
   ],
   "source": [
    "rest"
   ]
  },
  {
   "cell_type": "markdown",
   "id": "b6d4340b",
   "metadata": {},
   "source": [
    "#####\n",
    "This rest bit is sometimes something you want to discard; there is nothing special about the rest name. As a matter of convention, many Python programmers will use the underscore (_) for unwanted variables."
   ]
  },
  {
   "cell_type": "code",
   "execution_count": 41,
   "id": "ba7e6eca",
   "metadata": {},
   "outputs": [],
   "source": [
    "a, b, *_ = values"
   ]
  },
  {
   "cell_type": "markdown",
   "id": "a5ea7acb",
   "metadata": {},
   "source": [
    "#### Tuple Methods\n",
    "Since the size and contents of a tuple cannot be modified, it is very light on instance methods. A particularly useful one (also available on lists) is count, which counts the number of occurrences of a value."
   ]
  },
  {
   "cell_type": "code",
   "execution_count": 42,
   "id": "ce0e4ec6",
   "metadata": {},
   "outputs": [],
   "source": [
    "a = (1, 2, 2, 2, 3, 4, 2 )"
   ]
  },
  {
   "cell_type": "code",
   "execution_count": 43,
   "id": "bc7a349a",
   "metadata": {},
   "outputs": [
    {
     "data": {
      "text/plain": [
       "4"
      ]
     },
     "execution_count": 43,
     "metadata": {},
     "output_type": "execute_result"
    }
   ],
   "source": [
    "a.count(2)"
   ]
  },
  {
   "cell_type": "markdown",
   "id": "5f7356e6",
   "metadata": {},
   "source": [
    "### List\n",
    "These are variable length and their contents can be modified in\n",
    "place. Lists are mutable. You can define them using square brackets [] or using the list type function."
   ]
  },
  {
   "cell_type": "code",
   "execution_count": 44,
   "id": "74a06f2e",
   "metadata": {},
   "outputs": [],
   "source": [
    "a_list = [2, 3, 7, None]"
   ]
  },
  {
   "cell_type": "code",
   "execution_count": 45,
   "id": "769542f6",
   "metadata": {},
   "outputs": [],
   "source": [
    "tup = (\"foo\", \"bar\", \"baz\")"
   ]
  },
  {
   "cell_type": "code",
   "execution_count": 46,
   "id": "d51e0a14",
   "metadata": {},
   "outputs": [],
   "source": [
    "b_list = list(tup)"
   ]
  },
  {
   "cell_type": "code",
   "execution_count": 47,
   "id": "21fce679",
   "metadata": {},
   "outputs": [
    {
     "data": {
      "text/plain": [
       "['foo', 'bar', 'baz']"
      ]
     },
     "execution_count": 47,
     "metadata": {},
     "output_type": "execute_result"
    }
   ],
   "source": [
    "b_list"
   ]
  },
  {
   "cell_type": "code",
   "execution_count": 49,
   "id": "de4ca8e3",
   "metadata": {},
   "outputs": [],
   "source": [
    "b_list[1] = \"peekaboo\""
   ]
  },
  {
   "cell_type": "code",
   "execution_count": 50,
   "id": "f87fda4e",
   "metadata": {},
   "outputs": [
    {
     "data": {
      "text/plain": [
       "['foo', 'peekaboo', 'baz']"
      ]
     },
     "execution_count": 50,
     "metadata": {},
     "output_type": "execute_result"
    }
   ],
   "source": [
    "b_list"
   ]
  },
  {
   "cell_type": "markdown",
   "id": "4fc0c3a4",
   "metadata": {},
   "source": [
    "#####\n",
    "Lists and tuples are semantically similar (though tuples cannot be modified) and can be used interchangeably in many functions.\n",
    "The list built-in function is frequently used in data processing as a way to materialize an iterator or generator expression."
   ]
  },
  {
   "cell_type": "code",
   "execution_count": 51,
   "id": "98530cb5",
   "metadata": {},
   "outputs": [],
   "source": [
    "gen = range(10)"
   ]
  },
  {
   "cell_type": "code",
   "execution_count": 52,
   "id": "63350228",
   "metadata": {},
   "outputs": [
    {
     "data": {
      "text/plain": [
       "range(0, 10)"
      ]
     },
     "execution_count": 52,
     "metadata": {},
     "output_type": "execute_result"
    }
   ],
   "source": [
    "gen"
   ]
  },
  {
   "cell_type": "code",
   "execution_count": 53,
   "id": "6ba37e1f",
   "metadata": {},
   "outputs": [
    {
     "data": {
      "text/plain": [
       "[0, 1, 2, 3, 4, 5, 6, 7, 8, 9]"
      ]
     },
     "execution_count": 53,
     "metadata": {},
     "output_type": "execute_result"
    }
   ],
   "source": [
    "list(gen)"
   ]
  },
  {
   "cell_type": "markdown",
   "id": "4c0403ca",
   "metadata": {},
   "source": [
    "#### Adding and Removing elements \n",
    "Elements can be appended to the end of the list with the append method."
   ]
  },
  {
   "cell_type": "code",
   "execution_count": 54,
   "id": "e2edf3f2",
   "metadata": {},
   "outputs": [],
   "source": [
    "b_list.append(\"dwarf\")"
   ]
  },
  {
   "cell_type": "code",
   "execution_count": 55,
   "id": "f564268b",
   "metadata": {},
   "outputs": [
    {
     "data": {
      "text/plain": [
       "['foo', 'peekaboo', 'baz', 'dwarf']"
      ]
     },
     "execution_count": 55,
     "metadata": {},
     "output_type": "execute_result"
    }
   ],
   "source": [
    "b_list"
   ]
  },
  {
   "cell_type": "markdown",
   "id": "257a1dae",
   "metadata": {},
   "source": [
    "#####\n",
    "Using insert you can insert an element at a specific location in the list."
   ]
  },
  {
   "cell_type": "code",
   "execution_count": 56,
   "id": "5c65eac6",
   "metadata": {},
   "outputs": [],
   "source": [
    "b_list.insert(1, \"red\")"
   ]
  },
  {
   "cell_type": "code",
   "execution_count": 57,
   "id": "3f94beab",
   "metadata": {},
   "outputs": [
    {
     "data": {
      "text/plain": [
       "['foo', 'red', 'peekaboo', 'baz', 'dwarf']"
      ]
     },
     "execution_count": 57,
     "metadata": {},
     "output_type": "execute_result"
    }
   ],
   "source": [
    "b_list"
   ]
  },
  {
   "cell_type": "markdown",
   "id": "deac6a75",
   "metadata": {},
   "source": [
    "#####\n",
    "The insertion index must be between 0 and the length of the list, inclusive."
   ]
  },
  {
   "cell_type": "markdown",
   "id": "33c0ce48",
   "metadata": {},
   "source": [
    "#####\n",
    "The inverse operation to insert is pop, which removes and returns an element at a particular index."
   ]
  },
  {
   "cell_type": "code",
   "execution_count": 58,
   "id": "5f120a33",
   "metadata": {},
   "outputs": [
    {
     "data": {
      "text/plain": [
       "'peekaboo'"
      ]
     },
     "execution_count": 58,
     "metadata": {},
     "output_type": "execute_result"
    }
   ],
   "source": [
    "b_list.pop(2)  # Removes and returns the item at index 2"
   ]
  },
  {
   "cell_type": "code",
   "execution_count": 59,
   "id": "3b8c68bf",
   "metadata": {},
   "outputs": [
    {
     "data": {
      "text/plain": [
       "['foo', 'red', 'baz', 'dwarf']"
      ]
     },
     "execution_count": 59,
     "metadata": {},
     "output_type": "execute_result"
    }
   ],
   "source": [
    "b_list"
   ]
  },
  {
   "cell_type": "markdown",
   "id": "fd74e902",
   "metadata": {},
   "source": [
    "#####\n",
    "Elements can be removed by value with remove, which locates the first such value and removes it from the list."
   ]
  },
  {
   "cell_type": "code",
   "execution_count": 60,
   "id": "b431bbcd",
   "metadata": {},
   "outputs": [],
   "source": [
    "b_list.append(\"foo\")"
   ]
  },
  {
   "cell_type": "code",
   "execution_count": 61,
   "id": "c8e10488",
   "metadata": {},
   "outputs": [
    {
     "data": {
      "text/plain": [
       "['foo', 'red', 'baz', 'dwarf', 'foo']"
      ]
     },
     "execution_count": 61,
     "metadata": {},
     "output_type": "execute_result"
    }
   ],
   "source": [
    "b_list"
   ]
  },
  {
   "cell_type": "code",
   "execution_count": 62,
   "id": "a9ee8a7b",
   "metadata": {},
   "outputs": [],
   "source": [
    "b_list.remove(\"foo\")"
   ]
  },
  {
   "cell_type": "code",
   "execution_count": 63,
   "id": "7749e452",
   "metadata": {},
   "outputs": [
    {
     "data": {
      "text/plain": [
       "['red', 'baz', 'dwarf', 'foo']"
      ]
     },
     "execution_count": 63,
     "metadata": {},
     "output_type": "execute_result"
    }
   ],
   "source": [
    "b_list"
   ]
  },
  {
   "cell_type": "markdown",
   "id": "94ccf0a2",
   "metadata": {},
   "source": [
    "#####\n",
    "If performance is not a concern, by using append and remove, you can use a Python list as a set-like data structure."
   ]
  },
  {
   "cell_type": "code",
   "execution_count": 65,
   "id": "b600a2d7",
   "metadata": {},
   "outputs": [
    {
     "data": {
      "text/plain": [
       "True"
      ]
     },
     "execution_count": 65,
     "metadata": {},
     "output_type": "execute_result"
    }
   ],
   "source": [
    "# Checking if a list contains a value using the in keyword.\n",
    "\"dwarf\" in b_list"
   ]
  },
  {
   "cell_type": "code",
   "execution_count": 66,
   "id": "b1f3a56b",
   "metadata": {},
   "outputs": [
    {
     "data": {
      "text/plain": [
       "False"
      ]
     },
     "execution_count": 66,
     "metadata": {},
     "output_type": "execute_result"
    }
   ],
   "source": [
    "# The keyword not can be  used to negate the in keyword.\n",
    "\"dwarf\" not in b_list"
   ]
  },
  {
   "cell_type": "markdown",
   "id": "f8c39bc7",
   "metadata": {},
   "source": [
    "#####\n",
    "Checking whether a list contains a value is a lot slower than doing so with dictionaries and sets, as Python makes a linear scan across the values of the list, whereas it can check the others (based on hash tables) in constant time."
   ]
  },
  {
   "cell_type": "markdown",
   "id": "0004ecc5",
   "metadata": {},
   "source": [
    "#### Concatenating and Combining lists\n",
    "Similar to tuples, adding two lists together with + concatenates them."
   ]
  },
  {
   "cell_type": "code",
   "execution_count": 67,
   "id": "6e640f7a",
   "metadata": {},
   "outputs": [
    {
     "data": {
      "text/plain": [
       "[4, None, 'foo', 7, 8, (2, 3)]"
      ]
     },
     "execution_count": 67,
     "metadata": {},
     "output_type": "execute_result"
    }
   ],
   "source": [
    "[4, None, \"foo\"] + [7, 8, (2, 3)]"
   ]
  },
  {
   "cell_type": "markdown",
   "id": "57116764",
   "metadata": {},
   "source": [
    "#####\n",
    "If you have a list already defined, you can append multiple elements to it using the \"extend\" method."
   ]
  },
  {
   "cell_type": "code",
   "execution_count": 68,
   "id": "3b6d0ab4",
   "metadata": {},
   "outputs": [],
   "source": [
    "x = [4, None, \"foo\"]"
   ]
  },
  {
   "cell_type": "code",
   "execution_count": 69,
   "id": "aa492c8d",
   "metadata": {},
   "outputs": [],
   "source": [
    "x.extend([7, 8, (2, 3)])"
   ]
  },
  {
   "cell_type": "code",
   "execution_count": 70,
   "id": "0f4cc933",
   "metadata": {},
   "outputs": [
    {
     "data": {
      "text/plain": [
       "[4, None, 'foo', 7, 8, (2, 3)]"
      ]
     },
     "execution_count": 70,
     "metadata": {},
     "output_type": "execute_result"
    }
   ],
   "source": [
    "x"
   ]
  },
  {
   "cell_type": "markdown",
   "id": "96a130d2",
   "metadata": {},
   "source": [
    "#####\n",
    "NB: List concatenation by addition is a comparatively expensive operation since\n",
    "a new list must be created and the objects copied over. \n",
    "\n",
    "Using extend to append elements to an existing list, especially if you are building up a large list, is usually preferable. Thus:"
   ]
  },
  {
   "cell_type": "code",
   "execution_count": null,
   "id": "7005692a",
   "metadata": {},
   "outputs": [],
   "source": [
    "# This is faster than concatenation alternative\n",
    "everything = []\n",
    "for chunk in list_of_lists:\n",
    "    everything.extend(chunk)"
   ]
  },
  {
   "cell_type": "code",
   "execution_count": null,
   "id": "2702b947",
   "metadata": {},
   "outputs": [],
   "source": [
    "# The concatenative alternative.\n",
    "everything = []\n",
    "for chunk in list_of_lists:\n",
    "    everything = everything + chunk"
   ]
  },
  {
   "cell_type": "markdown",
   "id": "ef07f396",
   "metadata": {},
   "source": [
    "#### Sorting\n",
    "A list can be sorted in place (without creating a new object) by calling its sort function."
   ]
  },
  {
   "cell_type": "code",
   "execution_count": 73,
   "id": "099b5e2e",
   "metadata": {},
   "outputs": [],
   "source": [
    "a = [7, 2, 5, 1, 3]"
   ]
  },
  {
   "cell_type": "code",
   "execution_count": 74,
   "id": "9bf436e2",
   "metadata": {},
   "outputs": [],
   "source": [
    "a.sort()"
   ]
  },
  {
   "cell_type": "code",
   "execution_count": 75,
   "id": "3dd5df81",
   "metadata": {},
   "outputs": [
    {
     "data": {
      "text/plain": [
       "[1, 2, 3, 5, 7]"
      ]
     },
     "execution_count": 75,
     "metadata": {},
     "output_type": "execute_result"
    }
   ],
   "source": [
    "a"
   ]
  },
  {
   "cell_type": "markdown",
   "id": "b77c4ea9",
   "metadata": {},
   "source": [
    "#####\n",
    "Sort has the ability to pass a secondary sort key (a function that produces a value to use to sort the objects).\n",
    "\n",
    "E.g, we could sort a collection of strings by their lengths"
   ]
  },
  {
   "cell_type": "code",
   "execution_count": 76,
   "id": "0c2419c9",
   "metadata": {},
   "outputs": [],
   "source": [
    "b = [\"saw\", \"small\", \"He\", \"foxes\", \"six\"]"
   ]
  },
  {
   "cell_type": "code",
   "execution_count": 77,
   "id": "28d37328",
   "metadata": {},
   "outputs": [],
   "source": [
    "b.sort(key=len)"
   ]
  },
  {
   "cell_type": "code",
   "execution_count": 78,
   "id": "5eee3a14",
   "metadata": {},
   "outputs": [
    {
     "data": {
      "text/plain": [
       "['He', 'saw', 'six', 'small', 'foxes']"
      ]
     },
     "execution_count": 78,
     "metadata": {},
     "output_type": "execute_result"
    }
   ],
   "source": [
    "b"
   ]
  },
  {
   "cell_type": "markdown",
   "id": "32a0e463",
   "metadata": {},
   "source": [
    "#### Slicing\n",
    "This is a feature that lets you extract portions (subsequences) of sequences like strings, lists, and tuples. Think of it as cutting out specific pieces from a larger collection."
   ]
  },
  {
   "cell_type": "code",
   "execution_count": 79,
   "id": "64842856",
   "metadata": {},
   "outputs": [],
   "source": [
    "seq = [7, 2, 3, 7, 5, 6, 0, 1]"
   ]
  },
  {
   "cell_type": "code",
   "execution_count": 80,
   "id": "a7792e92",
   "metadata": {},
   "outputs": [
    {
     "data": {
      "text/plain": [
       "[2, 3, 7, 5]"
      ]
     },
     "execution_count": 80,
     "metadata": {},
     "output_type": "execute_result"
    }
   ],
   "source": [
    "seq[1:5]"
   ]
  },
  {
   "cell_type": "markdown",
   "id": "a9f879c6",
   "metadata": {},
   "source": [
    "#####\n",
    "Slices can also be assigned with a sequence"
   ]
  },
  {
   "cell_type": "code",
   "execution_count": 81,
   "id": "66d3656d",
   "metadata": {},
   "outputs": [],
   "source": [
    "seq[3:5] = [6, 3]"
   ]
  },
  {
   "cell_type": "code",
   "execution_count": 82,
   "id": "2e309188",
   "metadata": {},
   "outputs": [
    {
     "data": {
      "text/plain": [
       "[7, 2, 3, 6, 3, 6, 0, 1]"
      ]
     },
     "execution_count": 82,
     "metadata": {},
     "output_type": "execute_result"
    }
   ],
   "source": [
    "seq"
   ]
  },
  {
   "cell_type": "markdown",
   "id": "c3643a33",
   "metadata": {},
   "source": [
    "#####\n",
    "While the element at the start index is included, the stop index is not included, so that the number of elements in the result is stop - start.\n",
    "\n",
    "Either the start or stop can be omitted, in which case they default to the start of the sequence and the end of the sequence, respectively."
   ]
  },
  {
   "cell_type": "code",
   "execution_count": 83,
   "id": "f8695052",
   "metadata": {},
   "outputs": [
    {
     "data": {
      "text/plain": [
       "[7, 2, 3, 6, 3]"
      ]
     },
     "execution_count": 83,
     "metadata": {},
     "output_type": "execute_result"
    }
   ],
   "source": [
    "seq[:5]"
   ]
  },
  {
   "cell_type": "code",
   "execution_count": 84,
   "id": "39d673a6",
   "metadata": {},
   "outputs": [
    {
     "data": {
      "text/plain": [
       "[6, 3, 6, 0, 1]"
      ]
     },
     "execution_count": 84,
     "metadata": {},
     "output_type": "execute_result"
    }
   ],
   "source": [
    "seq[3:]"
   ]
  },
  {
   "cell_type": "markdown",
   "id": "92140dc4",
   "metadata": {},
   "source": [
    "#####\n",
    "Negative indices slice the sequence relative to the end."
   ]
  },
  {
   "cell_type": "code",
   "execution_count": 85,
   "id": "d32e8b6f",
   "metadata": {},
   "outputs": [
    {
     "data": {
      "text/plain": [
       "[3, 6, 0, 1]"
      ]
     },
     "execution_count": 85,
     "metadata": {},
     "output_type": "execute_result"
    }
   ],
   "source": [
    "seq[-4:]"
   ]
  },
  {
   "cell_type": "code",
   "execution_count": 86,
   "id": "3913332a",
   "metadata": {},
   "outputs": [
    {
     "data": {
      "text/plain": [
       "[3, 6, 3, 6]"
      ]
     },
     "execution_count": 86,
     "metadata": {},
     "output_type": "execute_result"
    }
   ],
   "source": [
    "seq[-6:-2]"
   ]
  },
  {
   "cell_type": "code",
   "execution_count": 90,
   "id": "9044f974",
   "metadata": {},
   "outputs": [
    {
     "data": {
      "text/plain": [
       "[7, 3, 3, 0]"
      ]
     },
     "execution_count": 90,
     "metadata": {},
     "output_type": "execute_result"
    }
   ],
   "source": [
    "# This is a feature that lets you extract portions (subsequences) of sequences like strings, lists, and tuples. Think of it as cutting out specific pieces from a larger collection.\n",
    "seq[::2]"
   ]
  },
  {
   "cell_type": "code",
   "execution_count": 89,
   "id": "a86d15f8",
   "metadata": {},
   "outputs": [
    {
     "data": {
      "text/plain": [
       "[1, 0, 6, 3, 6, 3, 2, 7]"
      ]
     },
     "execution_count": 89,
     "metadata": {},
     "output_type": "execute_result"
    }
   ],
   "source": [
    "# A clever use of this is to pass -1, which has the useful effect of reversing a list or tuple.\n",
    "seq[::-1]"
   ]
  },
  {
   "cell_type": "markdown",
   "id": "ff45f929",
   "metadata": {},
   "source": [
    "### Dictionary\n",
    "\n",
    "These are sometimes know as hash maps or associative arrays.\n",
    "They store a collection of key-value pairs, where key and value are objects.\n",
    "\n",
    "Each key is associated with a value so that a value can be conveniently retrieved, inserted, modified, or deleted given a particular key. \n",
    "\n",
    "One approach for creating a dictionary is to use curly braces {} and colons to separate keys and values.\n"
   ]
  },
  {
   "cell_type": "code",
   "execution_count": 91,
   "id": "d11efda0",
   "metadata": {},
   "outputs": [],
   "source": [
    "empty_dict = {}"
   ]
  },
  {
   "cell_type": "code",
   "execution_count": 93,
   "id": "04bb766d",
   "metadata": {},
   "outputs": [],
   "source": [
    "d1 = {\"a\": \"some value\", \"b\": [1, 2, 3, 4]}"
   ]
  },
  {
   "cell_type": "code",
   "execution_count": 94,
   "id": "896002b7",
   "metadata": {},
   "outputs": [
    {
     "data": {
      "text/plain": [
       "{'a': 'some value', 'b': [1, 2, 3, 4]}"
      ]
     },
     "execution_count": 94,
     "metadata": {},
     "output_type": "execute_result"
    }
   ],
   "source": [
    "d1"
   ]
  },
  {
   "cell_type": "markdown",
   "id": "ecd77bed",
   "metadata": {},
   "source": [
    "#####\n",
    "Insert or set elements can be accessed using the same syntax as for accessing elements of a list or tuple."
   ]
  },
  {
   "cell_type": "code",
   "execution_count": 95,
   "id": "8e2f1ba9",
   "metadata": {},
   "outputs": [],
   "source": [
    "d1[7] = \"an integer\""
   ]
  },
  {
   "cell_type": "code",
   "execution_count": 96,
   "id": "80ed910b",
   "metadata": {},
   "outputs": [
    {
     "data": {
      "text/plain": [
       "{'a': 'some value', 'b': [1, 2, 3, 4], 7: 'an integer'}"
      ]
     },
     "execution_count": 96,
     "metadata": {},
     "output_type": "execute_result"
    }
   ],
   "source": [
    "d1"
   ]
  },
  {
   "cell_type": "code",
   "execution_count": 97,
   "id": "62fae12e",
   "metadata": {},
   "outputs": [
    {
     "data": {
      "text/plain": [
       "[1, 2, 3, 4]"
      ]
     },
     "execution_count": 97,
     "metadata": {},
     "output_type": "execute_result"
    }
   ],
   "source": [
    "d1[\"b\"]"
   ]
  },
  {
   "cell_type": "markdown",
   "id": "5085fd57",
   "metadata": {},
   "source": [
    "#####\n",
    "To check whether a dictionary contains a key one can use the same syntax used for checking whether a list or tuple contains a value."
   ]
  },
  {
   "cell_type": "code",
   "execution_count": 98,
   "id": "ebf4076f",
   "metadata": {},
   "outputs": [
    {
     "data": {
      "text/plain": [
       "True"
      ]
     },
     "execution_count": 98,
     "metadata": {},
     "output_type": "execute_result"
    }
   ],
   "source": [
    "\"b\" in d1"
   ]
  },
  {
   "cell_type": "markdown",
   "id": "595fe5ca",
   "metadata": {},
   "source": [
    "#####\n",
    "One can delete values using either the del keyword or the pop method (which simultaneously returns the value and deletes the key)"
   ]
  },
  {
   "cell_type": "code",
   "execution_count": 99,
   "id": "5b474cdd",
   "metadata": {},
   "outputs": [],
   "source": [
    "d1[5] = \"some value\""
   ]
  },
  {
   "cell_type": "code",
   "execution_count": 100,
   "id": "1d519711",
   "metadata": {},
   "outputs": [
    {
     "data": {
      "text/plain": [
       "{'a': 'some value', 'b': [1, 2, 3, 4], 7: 'an integer', 5: 'some value'}"
      ]
     },
     "execution_count": 100,
     "metadata": {},
     "output_type": "execute_result"
    }
   ],
   "source": [
    "d1"
   ]
  },
  {
   "cell_type": "code",
   "execution_count": 101,
   "id": "99051b23",
   "metadata": {},
   "outputs": [],
   "source": [
    "d1[\"dummy\"] = \"another value\""
   ]
  },
  {
   "cell_type": "code",
   "execution_count": 102,
   "id": "b934ff4d",
   "metadata": {},
   "outputs": [
    {
     "data": {
      "text/plain": [
       "{'a': 'some value',\n",
       " 'b': [1, 2, 3, 4],\n",
       " 7: 'an integer',\n",
       " 5: 'some value',\n",
       " 'dummy': 'another value'}"
      ]
     },
     "execution_count": 102,
     "metadata": {},
     "output_type": "execute_result"
    }
   ],
   "source": [
    "d1"
   ]
  },
  {
   "cell_type": "code",
   "execution_count": 103,
   "id": "ad8d25e0",
   "metadata": {},
   "outputs": [],
   "source": [
    "del d1[5]"
   ]
  },
  {
   "cell_type": "code",
   "execution_count": 104,
   "id": "7da9f94c",
   "metadata": {},
   "outputs": [
    {
     "data": {
      "text/plain": [
       "{'a': 'some value',\n",
       " 'b': [1, 2, 3, 4],\n",
       " 7: 'an integer',\n",
       " 'dummy': 'another value'}"
      ]
     },
     "execution_count": 104,
     "metadata": {},
     "output_type": "execute_result"
    }
   ],
   "source": [
    "d1"
   ]
  },
  {
   "cell_type": "code",
   "execution_count": 105,
   "id": "f92d714d",
   "metadata": {},
   "outputs": [],
   "source": [
    "ret = d1.pop(\"dummy\")"
   ]
  },
  {
   "cell_type": "code",
   "execution_count": 107,
   "id": "a9b89941",
   "metadata": {},
   "outputs": [
    {
     "data": {
      "text/plain": [
       "'another value'"
      ]
     },
     "execution_count": 107,
     "metadata": {},
     "output_type": "execute_result"
    }
   ],
   "source": [
    "ret"
   ]
  },
  {
   "cell_type": "code",
   "execution_count": 108,
   "id": "4cfeffb8",
   "metadata": {},
   "outputs": [
    {
     "data": {
      "text/plain": [
       "{'a': 'some value', 'b': [1, 2, 3, 4], 7: 'an integer'}"
      ]
     },
     "execution_count": 108,
     "metadata": {},
     "output_type": "execute_result"
    }
   ],
   "source": [
    "d1"
   ]
  },
  {
   "cell_type": "markdown",
   "id": "7e301c56",
   "metadata": {},
   "source": [
    "#####\n",
    "The keys and values method gives you iterators of the dictionary’s keys and values, respectively. The order of the keys depends on the order of their insertion, and these functions output the keys and values in the same respective order."
   ]
  },
  {
   "cell_type": "code",
   "execution_count": 109,
   "id": "e176d222",
   "metadata": {},
   "outputs": [
    {
     "data": {
      "text/plain": [
       "['a', 'b', 7]"
      ]
     },
     "execution_count": 109,
     "metadata": {},
     "output_type": "execute_result"
    }
   ],
   "source": [
    "list(d1.keys())"
   ]
  },
  {
   "cell_type": "code",
   "execution_count": 110,
   "id": "33b8d8d3",
   "metadata": {},
   "outputs": [
    {
     "data": {
      "text/plain": [
       "['some value', [1, 2, 3, 4], 'an integer']"
      ]
     },
     "execution_count": 110,
     "metadata": {},
     "output_type": "execute_result"
    }
   ],
   "source": [
    "list(d1.values())"
   ]
  },
  {
   "cell_type": "markdown",
   "id": "3d270947",
   "metadata": {},
   "source": [
    "#####\n",
    "To iterate over both keys and values, the items method is used to iterate over the keys and values as 2-tuples."
   ]
  },
  {
   "cell_type": "code",
   "execution_count": 111,
   "id": "bfedb831",
   "metadata": {},
   "outputs": [
    {
     "data": {
      "text/plain": [
       "[('a', 'some value'), ('b', [1, 2, 3, 4]), (7, 'an integer')]"
      ]
     },
     "execution_count": 111,
     "metadata": {},
     "output_type": "execute_result"
    }
   ],
   "source": [
    "list(d1.items())"
   ]
  },
  {
   "cell_type": "markdown",
   "id": "766f0524",
   "metadata": {},
   "source": [
    "#####\n",
    "One can merge one dictionary into another using the update method.\n",
    "\n",
    "The update method changes dictionaries in place, so any existing keys in the data passed to update will have their old values discarded."
   ]
  },
  {
   "cell_type": "code",
   "execution_count": 112,
   "id": "75ae4056",
   "metadata": {},
   "outputs": [],
   "source": [
    "d1.update({\"b\": \"foo\", \"c\": 12})"
   ]
  },
  {
   "cell_type": "code",
   "execution_count": 113,
   "id": "ca451352",
   "metadata": {},
   "outputs": [
    {
     "data": {
      "text/plain": [
       "{'a': 'some value', 'b': 'foo', 7: 'an integer', 'c': 12}"
      ]
     },
     "execution_count": 113,
     "metadata": {},
     "output_type": "execute_result"
    }
   ],
   "source": [
    "d1"
   ]
  },
  {
   "cell_type": "markdown",
   "id": "afd1bb6f",
   "metadata": {},
   "source": [
    "#### Creating Dictionaries from Sequences\n",
    "It’s common to occasionally end up with two sequences that you want to pair up\n",
    "element-wise in a dictionary. As a first cut, you might write code like this:"
   ]
  },
  {
   "cell_type": "code",
   "execution_count": null,
   "id": "aefabbb2",
   "metadata": {},
   "outputs": [],
   "source": [
    "mapping = {}\n",
    "for key, value in zip(key_list, value_list):\n",
    "    mapping[key] = value"
   ]
  },
  {
   "cell_type": "markdown",
   "id": "6981f0e2",
   "metadata": {},
   "source": [
    "#####\n",
    "The dict function accepts a list of 2-tuples as a dictionary is essentially a collection of 2-tuples."
   ]
  },
  {
   "cell_type": "code",
   "execution_count": 115,
   "id": "c6864ba8",
   "metadata": {},
   "outputs": [],
   "source": [
    "tuples = zip(range(5), reversed(range(5)))"
   ]
  },
  {
   "cell_type": "code",
   "execution_count": 116,
   "id": "2d34d0ee",
   "metadata": {},
   "outputs": [
    {
     "data": {
      "text/plain": [
       "<zip at 0x218c1201880>"
      ]
     },
     "execution_count": 116,
     "metadata": {},
     "output_type": "execute_result"
    }
   ],
   "source": [
    "tuples"
   ]
  },
  {
   "cell_type": "code",
   "execution_count": 117,
   "id": "cc1bf9a9",
   "metadata": {},
   "outputs": [],
   "source": [
    "mapping = dict(tuples)"
   ]
  },
  {
   "cell_type": "code",
   "execution_count": 118,
   "id": "36a2bec2",
   "metadata": {},
   "outputs": [
    {
     "data": {
      "text/plain": [
       "{0: 4, 1: 3, 2: 2, 3: 1, 4: 0}"
      ]
     },
     "execution_count": 118,
     "metadata": {},
     "output_type": "execute_result"
    }
   ],
   "source": [
    "mapping"
   ]
  },
  {
   "cell_type": "markdown",
   "id": "2dfa32fb",
   "metadata": {},
   "source": [
    "#### Default Values"
   ]
  },
  {
   "cell_type": "code",
   "execution_count": null,
   "id": "2ac74bd2",
   "metadata": {},
   "outputs": [],
   "source": [
    "# It's common to have logic like\n",
    "if key in some_dict:\n",
    "    value = some_dict[key]\n",
    "else:\n",
    "    value = default_value"
   ]
  },
  {
   "cell_type": "markdown",
   "id": "5210f694",
   "metadata": {},
   "source": [
    "#####\n",
    "The dictionary methods \"get\" and \"pop\" can take a default value to be returned, so that the above if-else block can be written simply as:"
   ]
  },
  {
   "cell_type": "code",
   "execution_count": null,
   "id": "64a3f9ed",
   "metadata": {},
   "outputs": [],
   "source": [
    "value = some_dict.get(key, default_value)"
   ]
  },
  {
   "cell_type": "markdown",
   "id": "7030cc36",
   "metadata": {},
   "source": [
    "#####\n",
    "get by default will return None if the key is not present, while pop will raise an exception. With setting values, it may be that the values in a dictionary are another kind of collection, like a list.\n",
    "\n",
    "For example, you could imagine categorizing a list of words by their first letters as a dictionary of lists:"
   ]
  },
  {
   "cell_type": "code",
   "execution_count": 121,
   "id": "0bd9a1f7",
   "metadata": {},
   "outputs": [],
   "source": [
    "words = [\"apple\", \"bat\", \"bar\", \"atom\", \"book\"]"
   ]
  },
  {
   "cell_type": "code",
   "execution_count": 122,
   "id": "22c64f1f",
   "metadata": {},
   "outputs": [],
   "source": [
    "by_letter = {}"
   ]
  },
  {
   "cell_type": "code",
   "execution_count": 124,
   "id": "344a2577",
   "metadata": {},
   "outputs": [],
   "source": [
    "for word in words:\n",
    "    letter = word[0]\n",
    "    if letter not in by_letter:\n",
    "        by_letter[letter] = [word]\n",
    "    else:\n",
    "        by_letter[letter].append(word)"
   ]
  },
  {
   "cell_type": "code",
   "execution_count": 125,
   "id": "dd8a940c",
   "metadata": {},
   "outputs": [
    {
     "data": {
      "text/plain": [
       "{'a': ['apple', 'atom'], 'b': ['bat', 'bar', 'book']}"
      ]
     },
     "execution_count": 125,
     "metadata": {},
     "output_type": "execute_result"
    }
   ],
   "source": [
    "by_letter"
   ]
  },
  {
   "cell_type": "markdown",
   "id": "956331b8",
   "metadata": {},
   "source": [
    "#####\n",
    "The setdefault dictionary method can be used to simplify this workflow. The\n",
    "preceding for loop can be rewritten as:"
   ]
  },
  {
   "cell_type": "code",
   "execution_count": 127,
   "id": "d4427f28",
   "metadata": {},
   "outputs": [],
   "source": [
    "by_letter = {}"
   ]
  },
  {
   "cell_type": "code",
   "execution_count": 128,
   "id": "46a5d67c",
   "metadata": {},
   "outputs": [],
   "source": [
    "for word in words:\n",
    "    letter = word[0]\n",
    "    by_letter.setdefault(letter, []).append(word)"
   ]
  },
  {
   "cell_type": "code",
   "execution_count": 129,
   "id": "30ed05f9",
   "metadata": {},
   "outputs": [
    {
     "data": {
      "text/plain": [
       "{'a': ['apple', 'atom'], 'b': ['bat', 'bar', 'book']}"
      ]
     },
     "execution_count": 129,
     "metadata": {},
     "output_type": "execute_result"
    }
   ],
   "source": [
    "by_letter"
   ]
  },
  {
   "cell_type": "markdown",
   "id": "f65bd759",
   "metadata": {},
   "source": [
    "#####\n",
    "To use a list as a key, one option is to convert it to a tuple, which can be hashed as long as its elements also can be:"
   ]
  },
  {
   "cell_type": "code",
   "execution_count": 130,
   "id": "e37f7107",
   "metadata": {},
   "outputs": [],
   "source": [
    "d = {}"
   ]
  },
  {
   "cell_type": "code",
   "execution_count": 131,
   "id": "b8bc8a53",
   "metadata": {},
   "outputs": [],
   "source": [
    "d[tuple([1, 2, 3])] = 5"
   ]
  },
  {
   "cell_type": "code",
   "execution_count": 132,
   "id": "e260815e",
   "metadata": {},
   "outputs": [
    {
     "data": {
      "text/plain": [
       "{(1, 2, 3): 5}"
      ]
     },
     "execution_count": 132,
     "metadata": {},
     "output_type": "execute_result"
    }
   ],
   "source": [
    "d"
   ]
  },
  {
   "cell_type": "markdown",
   "id": "d9e767a8",
   "metadata": {},
   "source": [
    "### Set\n",
    "This is an unordered collection of unique elements. It can be created in two ways:\n",
    "\n",
    "1) via the set function\n",
    "\n",
    "2) via a set literal with curly braces"
   ]
  },
  {
   "cell_type": "code",
   "execution_count": 133,
   "id": "18802abc",
   "metadata": {},
   "outputs": [
    {
     "data": {
      "text/plain": [
       "{1, 2, 3}"
      ]
     },
     "execution_count": 133,
     "metadata": {},
     "output_type": "execute_result"
    }
   ],
   "source": [
    "set([2, 2, 2, 1, 3, 3])"
   ]
  },
  {
   "cell_type": "code",
   "execution_count": 134,
   "id": "cf0ab063",
   "metadata": {},
   "outputs": [
    {
     "data": {
      "text/plain": [
       "{1, 2, 3}"
      ]
     },
     "execution_count": 134,
     "metadata": {},
     "output_type": "execute_result"
    }
   ],
   "source": [
    "{2, 2, 2, 1, 3, 3}"
   ]
  },
  {
   "cell_type": "markdown",
   "id": "c2763500",
   "metadata": {},
   "source": [
    "#####\n",
    "Sets support mathematical set operations like union, intersection, difference, and symmetric difference.\n",
    "\n",
    "Consider these two example sets;"
   ]
  },
  {
   "cell_type": "code",
   "execution_count": 135,
   "id": "cfcf0273",
   "metadata": {},
   "outputs": [],
   "source": [
    "a = {1, 2, 3, 4, 5}"
   ]
  },
  {
   "cell_type": "code",
   "execution_count": 136,
   "id": "59daf98d",
   "metadata": {},
   "outputs": [],
   "source": [
    "b = {3, 4, 5, 6, 7, 8}"
   ]
  },
  {
   "cell_type": "markdown",
   "id": "32773d9b",
   "metadata": {},
   "source": [
    "#####\n",
    "The union of these two sets is the set of distinct elements occurring in either set. This can be computed with either the union method or the | binary operator."
   ]
  },
  {
   "cell_type": "code",
   "execution_count": 137,
   "id": "9cb7d64c",
   "metadata": {},
   "outputs": [
    {
     "data": {
      "text/plain": [
       "{1, 2, 3, 4, 5, 6, 7, 8}"
      ]
     },
     "execution_count": 137,
     "metadata": {},
     "output_type": "execute_result"
    }
   ],
   "source": [
    "a.union(b)"
   ]
  },
  {
   "cell_type": "code",
   "execution_count": 138,
   "id": "b229b74c",
   "metadata": {},
   "outputs": [
    {
     "data": {
      "text/plain": [
       "{1, 2, 3, 4, 5, 6, 7, 8}"
      ]
     },
     "execution_count": 138,
     "metadata": {},
     "output_type": "execute_result"
    }
   ],
   "source": [
    "a | b"
   ]
  },
  {
   "cell_type": "markdown",
   "id": "83c78933",
   "metadata": {},
   "source": [
    "#####\n",
    "The intersection contains the elements occurring in both sets. The & operator or the intersection method can be used."
   ]
  },
  {
   "cell_type": "code",
   "execution_count": 139,
   "id": "4dcb713c",
   "metadata": {},
   "outputs": [
    {
     "data": {
      "text/plain": [
       "{3, 4, 5}"
      ]
     },
     "execution_count": 139,
     "metadata": {},
     "output_type": "execute_result"
    }
   ],
   "source": [
    "a.intersection(b)"
   ]
  },
  {
   "cell_type": "code",
   "execution_count": 140,
   "id": "ae665085",
   "metadata": {},
   "outputs": [
    {
     "data": {
      "text/plain": [
       "{3, 4, 5}"
      ]
     },
     "execution_count": 140,
     "metadata": {},
     "output_type": "execute_result"
    }
   ],
   "source": [
    "a & b"
   ]
  },
  {
   "cell_type": "markdown",
   "id": "ddb7ca1d",
   "metadata": {},
   "source": [
    "#####\n",
    "The logical set operators have in-place counterparts, which enable one to replace the contents of the st on the left side of the operation with the result. For very large sets, this may be more efficient."
   ]
  },
  {
   "cell_type": "code",
   "execution_count": 141,
   "id": "e552b845",
   "metadata": {},
   "outputs": [],
   "source": [
    "c = a.copy()"
   ]
  },
  {
   "cell_type": "code",
   "execution_count": 142,
   "id": "becaf351",
   "metadata": {},
   "outputs": [],
   "source": [
    "c |= b"
   ]
  },
  {
   "cell_type": "code",
   "execution_count": 143,
   "id": "d4432145",
   "metadata": {},
   "outputs": [
    {
     "data": {
      "text/plain": [
       "{1, 2, 3, 4, 5, 6, 7, 8}"
      ]
     },
     "execution_count": 143,
     "metadata": {},
     "output_type": "execute_result"
    }
   ],
   "source": [
    "c"
   ]
  },
  {
   "cell_type": "code",
   "execution_count": 144,
   "id": "52d783c4",
   "metadata": {},
   "outputs": [],
   "source": [
    "d = a.copy()"
   ]
  },
  {
   "cell_type": "code",
   "execution_count": 145,
   "id": "3babf253",
   "metadata": {},
   "outputs": [],
   "source": [
    "d &= b"
   ]
  },
  {
   "cell_type": "code",
   "execution_count": 146,
   "id": "7e1b2b87",
   "metadata": {},
   "outputs": [
    {
     "data": {
      "text/plain": [
       "{3, 4, 5}"
      ]
     },
     "execution_count": 146,
     "metadata": {},
     "output_type": "execute_result"
    }
   ],
   "source": [
    "d"
   ]
  },
  {
   "cell_type": "markdown",
   "id": "0c1bf561",
   "metadata": {},
   "source": [
    "#####\n",
    "Like dictionary keys, set elements generally must be immutable, and they must be hashable (which means that calling hash on a value does not raise an exception). \n",
    "\n",
    "In order to store list-like elements (or other mutable sequences) in a set, you can convert them to tuples."
   ]
  },
  {
   "cell_type": "code",
   "execution_count": 147,
   "id": "f783d2d7",
   "metadata": {},
   "outputs": [],
   "source": [
    "my_data = [1, 2, 3, 4]"
   ]
  },
  {
   "cell_type": "code",
   "execution_count": 148,
   "id": "3dd91414",
   "metadata": {},
   "outputs": [],
   "source": [
    "my_set = {tuple(my_data)}"
   ]
  },
  {
   "cell_type": "code",
   "execution_count": 149,
   "id": "281c79e7",
   "metadata": {},
   "outputs": [
    {
     "data": {
      "text/plain": [
       "{(1, 2, 3, 4)}"
      ]
     },
     "execution_count": 149,
     "metadata": {},
     "output_type": "execute_result"
    }
   ],
   "source": [
    "my_set"
   ]
  },
  {
   "cell_type": "markdown",
   "id": "504d2be2",
   "metadata": {},
   "source": [
    "#####\n",
    "One can also check if a set is a subset of (is contained in) or a superset of (contains all elements of) another set."
   ]
  },
  {
   "cell_type": "code",
   "execution_count": 150,
   "id": "711bbf27",
   "metadata": {},
   "outputs": [],
   "source": [
    "a_set = {1, 2, 3, 4, 5}"
   ]
  },
  {
   "cell_type": "code",
   "execution_count": 151,
   "id": "5da3206f",
   "metadata": {},
   "outputs": [
    {
     "data": {
      "text/plain": [
       "True"
      ]
     },
     "execution_count": 151,
     "metadata": {},
     "output_type": "execute_result"
    }
   ],
   "source": [
    "{1, 2, 3}.issubset(a_set)"
   ]
  },
  {
   "cell_type": "code",
   "execution_count": 152,
   "id": "9371e90c",
   "metadata": {},
   "outputs": [
    {
     "data": {
      "text/plain": [
       "True"
      ]
     },
     "execution_count": 152,
     "metadata": {},
     "output_type": "execute_result"
    }
   ],
   "source": [
    "a_set.issuperset({1, 2, 3})"
   ]
  },
  {
   "cell_type": "markdown",
   "id": "f7af9cf8",
   "metadata": {},
   "source": [
    "#####\n",
    "Sets are equal if and only if their contents are equal."
   ]
  },
  {
   "cell_type": "code",
   "execution_count": 153,
   "id": "cb87cbd8",
   "metadata": {},
   "outputs": [
    {
     "data": {
      "text/plain": [
       "True"
      ]
     },
     "execution_count": 153,
     "metadata": {},
     "output_type": "execute_result"
    }
   ],
   "source": [
    "{1, 2, 3} == {3, 2, 1}"
   ]
  },
  {
   "cell_type": "markdown",
   "id": "f2fd13a7",
   "metadata": {},
   "source": [
    "### Built-In Sequence Functions"
   ]
  },
  {
   "cell_type": "markdown",
   "id": "a917f844",
   "metadata": {},
   "source": [
    "#### Enumerate\n",
    "This is a built-in Python function that adds a counter to an iterable (like a list, tuple, or string) and returns it as an enumerate object. This is particularly useful when you need both the index and the value of each item while looping.\n",
    "\n",
    "It’s common when iterating over a sequence to want to keep track of the index of the current item."
   ]
  },
  {
   "cell_type": "code",
   "execution_count": null,
   "id": "b1e5316a",
   "metadata": {},
   "outputs": [],
   "source": [
    "# Basic Syntax\n",
    "enumerate(iterable, start=0)"
   ]
  },
  {
   "cell_type": "code",
   "execution_count": null,
   "id": "478c4eea",
   "metadata": {},
   "outputs": [],
   "source": [
    "# Sample od do-it-yourself approach\n",
    "index = 0\n",
    "for value in collection:\n",
    "    #do something with value\n",
    "    index += 1"
   ]
  },
  {
   "cell_type": "markdown",
   "id": "d9076812",
   "metadata": {},
   "source": [
    "#####\n",
    "Python has a built-in function, enumerate, which returns a sequence of (i, value) tuples."
   ]
  },
  {
   "cell_type": "code",
   "execution_count": null,
   "id": "84f57203",
   "metadata": {},
   "outputs": [],
   "source": [
    "for index, value in enumerate(collection):\n",
    "    # do something with value"
   ]
  },
  {
   "cell_type": "code",
   "execution_count": 157,
   "id": "f4133e02",
   "metadata": {},
   "outputs": [
    {
     "name": "stdout",
     "output_type": "stream",
     "text": [
      "0: apple\n",
      "1: banana\n",
      "2: orange\n"
     ]
    }
   ],
   "source": [
    "fruits = ['apple', 'banana', 'orange']\n",
    "for index, fruit in enumerate(fruits):\n",
    "    print(f\"{index}: {fruit}\")"
   ]
  },
  {
   "cell_type": "code",
   "execution_count": 158,
   "id": "a1765b53",
   "metadata": {},
   "outputs": [
    {
     "name": "stdout",
     "output_type": "stream",
     "text": [
      "1: apple\n",
      "2: banana\n",
      "3: orange\n"
     ]
    }
   ],
   "source": [
    "for index, fruit in enumerate(fruits, start=1):\n",
    "    print(f\"{index}: {fruit}\")"
   ]
  },
  {
   "cell_type": "markdown",
   "id": "7fff3f9c",
   "metadata": {},
   "source": [
    "#### Sorted\n",
    "This is a function that returns a new sorted list from any iterable. It doesn't modify the original iterable - it creates and returns a new sorted list from the elements of any sequence."
   ]
  },
  {
   "cell_type": "code",
   "execution_count": null,
   "id": "ec0fd4a0",
   "metadata": {},
   "outputs": [],
   "source": [
    "# Basic Syntax\n",
    "sorted(iterable, key=None, reverse=False)"
   ]
  },
  {
   "cell_type": "code",
   "execution_count": 160,
   "id": "772c0a2b",
   "metadata": {},
   "outputs": [
    {
     "data": {
      "text/plain": [
       "[0, 1, 2, 2, 3, 6, 7]"
      ]
     },
     "execution_count": 160,
     "metadata": {},
     "output_type": "execute_result"
    }
   ],
   "source": [
    "sorted([7, 1, 2, 6, 0, 3, 2])"
   ]
  },
  {
   "cell_type": "code",
   "execution_count": 161,
   "id": "a4156bff",
   "metadata": {},
   "outputs": [
    {
     "data": {
      "text/plain": [
       "[' ', 'a', 'c', 'e', 'e', 'h', 'o', 'r', 'r', 's']"
      ]
     },
     "execution_count": 161,
     "metadata": {},
     "output_type": "execute_result"
    }
   ],
   "source": [
    "sorted(\"horse race\")"
   ]
  },
  {
   "cell_type": "code",
   "execution_count": null,
   "id": "351c9866",
   "metadata": {},
   "outputs": [
    {
     "name": "stdout",
     "output_type": "stream",
     "text": [
      "[1, 1, 3, 4, 5]\n",
      "[3, 1, 4, 1, 5]\n",
      "['a', 'b', 'c']\n",
      "['e', 'h', 'l', 'l', 'o']\n"
     ]
    }
   ],
   "source": [
    "numbers = [3, 1, 4, 1, 5]\n",
    "sorted_numbers = sorted(numbers)\n",
    "print(sorted_numbers)  \n",
    "print(numbers)         \n",
    "\n",
    "# Strings\n",
    "letters = ['c', 'a', 'b']\n",
    "print(sorted(letters))  \n",
    "\n",
    "# Works with any iterable\n",
    "print(sorted(\"hello\"))  "
   ]
  },
  {
   "cell_type": "code",
   "execution_count": null,
   "id": "5d41e215",
   "metadata": {},
   "outputs": [
    {
     "name": "stdout",
     "output_type": "stream",
     "text": [
      "['pie', 'apple', 'banana']\n",
      "['banana', 'apple', 'pie']\n",
      "['Alice', 'bob', 'Charlie']\n"
     ]
    }
   ],
   "source": [
    "## Using key parameters\n",
    "words = ['apple', 'pie', 'banana']\n",
    "# Sort by length\n",
    "print(sorted(words, key=len))  \n",
    "\n",
    "# Sort by last character\n",
    "print(sorted(words, key=lambda x: x[-1])) \n",
    "\n",
    "# Sort case-insensitive\n",
    "names = ['Alice', 'bob', 'Charlie']\n",
    "print(sorted(names, key=str.lower)) "
   ]
  },
  {
   "cell_type": "code",
   "execution_count": 164,
   "id": "581c2c6f",
   "metadata": {},
   "outputs": [
    {
     "name": "stdout",
     "output_type": "stream",
     "text": [
      "[5, 4, 3, 1, 1]\n"
     ]
    }
   ],
   "source": [
    "##  Using reverse parameter\n",
    "numbers = [3, 1, 4, 1, 5]\n",
    "print(sorted(numbers, reverse=True))  # [5, 4, 3, 1, 1]"
   ]
  },
  {
   "cell_type": "markdown",
   "id": "44a4125c",
   "metadata": {},
   "source": [
    "#### Zip\n",
    "This is a function that combines multiple iterables (lists, tuples, strings, etc.) by pairing up their elements. It returns an iterator of tuples where each tuple contains one element from each iterable."
   ]
  },
  {
   "cell_type": "code",
   "execution_count": null,
   "id": "b01aa932",
   "metadata": {},
   "outputs": [],
   "source": [
    "# Basic Syntax\n",
    "zip(*iterables)"
   ]
  },
  {
   "cell_type": "code",
   "execution_count": 1,
   "id": "ccc093ad",
   "metadata": {},
   "outputs": [],
   "source": [
    "seq1 = [\"foo\", \"bar\", \"baz\"]"
   ]
  },
  {
   "cell_type": "code",
   "execution_count": 2,
   "id": "1ed0dd1e",
   "metadata": {},
   "outputs": [],
   "source": [
    "seq2 = [\"one\", \"two\", \"three\"]"
   ]
  },
  {
   "cell_type": "code",
   "execution_count": 3,
   "id": "435ba7b5",
   "metadata": {},
   "outputs": [],
   "source": [
    "zipped = zip(seq1, seq2)"
   ]
  },
  {
   "cell_type": "code",
   "execution_count": 4,
   "id": "8ae5ebb9",
   "metadata": {},
   "outputs": [
    {
     "data": {
      "text/plain": [
       "[('foo', 'one'), ('bar', 'two'), ('baz', 'three')]"
      ]
     },
     "execution_count": 4,
     "metadata": {},
     "output_type": "execute_result"
    }
   ],
   "source": [
    "list(zipped)"
   ]
  },
  {
   "cell_type": "markdown",
   "id": "cc0ab779",
   "metadata": {},
   "source": [
    "##### \n",
    "Zip can take a random number of sequences and the number of elements it produces is determined by the shortest sequence."
   ]
  },
  {
   "cell_type": "code",
   "execution_count": 5,
   "id": "b3cc0992",
   "metadata": {},
   "outputs": [],
   "source": [
    "seq3 = [False, True]"
   ]
  },
  {
   "cell_type": "code",
   "execution_count": 7,
   "id": "c706c12e",
   "metadata": {},
   "outputs": [
    {
     "data": {
      "text/plain": [
       "[('foo', 'one', False), ('bar', 'two', True)]"
      ]
     },
     "execution_count": 7,
     "metadata": {},
     "output_type": "execute_result"
    }
   ],
   "source": [
    "list(zip(seq1, seq2, seq3))"
   ]
  },
  {
   "cell_type": "code",
   "execution_count": 8,
   "id": "7b99b235",
   "metadata": {},
   "outputs": [
    {
     "name": "stdout",
     "output_type": "stream",
     "text": [
      "0: foo, b: one\n",
      "1: bar, b: two\n",
      "2: baz, b: three\n"
     ]
    }
   ],
   "source": [
    "# How to simultaneously iterating over multiple sequences using zip combined with enumerate\n",
    "for index, (a, b) in enumerate(zip(seq1, seq2)):\n",
    "    print(f\"{index}: {a}, b: {b}\")"
   ]
  },
  {
   "cell_type": "markdown",
   "id": "64f996ae",
   "metadata": {},
   "source": [
    "##### Reversed\n",
    "This function iterates over the elements of a sequence in reverse order."
   ]
  },
  {
   "cell_type": "code",
   "execution_count": 9,
   "id": "f9528483",
   "metadata": {},
   "outputs": [
    {
     "data": {
      "text/plain": [
       "[9, 8, 7, 6, 5, 4, 3, 2, 1, 0]"
      ]
     },
     "execution_count": 9,
     "metadata": {},
     "output_type": "execute_result"
    }
   ],
   "source": [
    "list(reversed(range(10)))"
   ]
  },
  {
   "cell_type": "markdown",
   "id": "78cb7079",
   "metadata": {},
   "source": [
    "### List, Set, and Dictionary Comprehensions\n",
    "\n",
    "List comprehensions form a new list by filtering the elements of a collection, transforming the element passing the filter into one concise expression."
   ]
  },
  {
   "cell_type": "code",
   "execution_count": null,
   "id": "82f12feb",
   "metadata": {},
   "outputs": [],
   "source": [
    "# General syntax \n",
    "[expr for value in collection if condition]"
   ]
  },
  {
   "cell_type": "code",
   "execution_count": null,
   "id": "a81e60b5",
   "metadata": {},
   "outputs": [],
   "source": [
    "# equivalent for loop\n",
    "result = []\n",
    "for value in collection:\n",
    "    if condition:\n",
    "        result.append(expr)"
   ]
  },
  {
   "cell_type": "code",
   "execution_count": 12,
   "id": "9efb93b0",
   "metadata": {},
   "outputs": [],
   "source": [
    "# Eliminating the filter condition leaving only the expression\n",
    "# E.g given a list of strings, we could filter out strings with length 2 or less and convert them to uppercase\n",
    "strings = [\"a\", \"as\", \"bat\", \"car\", \"dove\", \"python\"]"
   ]
  },
  {
   "cell_type": "code",
   "execution_count": 11,
   "id": "1ad34490",
   "metadata": {},
   "outputs": [
    {
     "data": {
      "text/plain": [
       "['BAT', 'CAR', 'DOVE', 'PYTHON']"
      ]
     },
     "execution_count": 11,
     "metadata": {},
     "output_type": "execute_result"
    }
   ],
   "source": [
    "[x.upper() for x in strings if len(x) > 2]"
   ]
  },
  {
   "cell_type": "markdown",
   "id": "6bcd1b94",
   "metadata": {},
   "source": [
    "#####\n",
    "Set and dictionary comprehensions are a natural extension, producing sets and dictionaries in an idiomatically similar way instead of lists."
   ]
  },
  {
   "cell_type": "code",
   "execution_count": null,
   "id": "5bba282a",
   "metadata": {},
   "outputs": [],
   "source": [
    "# A dictionary comprehension\n",
    "dict_comp = {key-expr: value-expr for value in collection\n",
    "             if condition}"
   ]
  },
  {
   "cell_type": "code",
   "execution_count": null,
   "id": "cb02b928",
   "metadata": {},
   "outputs": [],
   "source": [
    "# A set comprehension \n",
    "# Looks like the list comprehension except with curly braces instead of square brackets\n",
    "set_comp = {expr for value in collection if condition}"
   ]
  },
  {
   "cell_type": "code",
   "execution_count": 14,
   "id": "c585c266",
   "metadata": {},
   "outputs": [],
   "source": [
    "# E.g Suppose we wanted a set containing just the lengths of the strings contained in the collection; we could easily compute this using a set comprehension\n",
    "unique_lengths = {len(x) for x in strings}"
   ]
  },
  {
   "cell_type": "code",
   "execution_count": 15,
   "id": "e538ad95",
   "metadata": {},
   "outputs": [
    {
     "data": {
      "text/plain": [
       "{1, 2, 3, 4, 6}"
      ]
     },
     "execution_count": 15,
     "metadata": {},
     "output_type": "execute_result"
    }
   ],
   "source": [
    "unique_lengths"
   ]
  },
  {
   "cell_type": "code",
   "execution_count": 16,
   "id": "8375c2a0",
   "metadata": {},
   "outputs": [],
   "source": [
    "# E.g Creating a lookup map of the strings for their location in the list\n",
    "loc_mapping = {value: index for index, value in enumerate(strings)}"
   ]
  },
  {
   "cell_type": "code",
   "execution_count": 17,
   "id": "ce89b413",
   "metadata": {},
   "outputs": [
    {
     "data": {
      "text/plain": [
       "{'a': 0, 'as': 1, 'bat': 2, 'car': 3, 'dove': 4, 'python': 5}"
      ]
     },
     "execution_count": 17,
     "metadata": {},
     "output_type": "execute_result"
    }
   ],
   "source": [
    "loc_mapping"
   ]
  },
  {
   "cell_type": "markdown",
   "id": "bd143784",
   "metadata": {},
   "source": [
    "#### Nested List Comprehensions"
   ]
  },
  {
   "cell_type": "code",
   "execution_count": 18,
   "id": "1010e156",
   "metadata": {},
   "outputs": [],
   "source": [
    "# Example of a list of lists containing some English and Spanish names\n",
    "all_data = [[\"John\", \"Emily\", \"Michael\", \"Mary\", \"Steven\"],\n",
    "           [\"Maria\", \"Juan\", \"Javier\", \"Natalia\", \"Pilar\"]]"
   ]
  },
  {
   "cell_type": "code",
   "execution_count": 19,
   "id": "0fdac460",
   "metadata": {},
   "outputs": [],
   "source": [
    "# Getting single list containing all names with two or more a’s in them using a simple for loop\n",
    "names_of_interest = []"
   ]
  },
  {
   "cell_type": "code",
   "execution_count": 20,
   "id": "75fc2cb9",
   "metadata": {},
   "outputs": [],
   "source": [
    "for names in all_data:\n",
    "    enough_as = [name for name in names if name.count(\"a\") >= 2]\n",
    "    names_of_interest.extend(enough_as)"
   ]
  },
  {
   "cell_type": "code",
   "execution_count": 21,
   "id": "571a0d23",
   "metadata": {},
   "outputs": [
    {
     "data": {
      "text/plain": [
       "['Maria', 'Natalia']"
      ]
     },
     "execution_count": 21,
     "metadata": {},
     "output_type": "execute_result"
    }
   ],
   "source": [
    "names_of_interest"
   ]
  },
  {
   "cell_type": "code",
   "execution_count": 22,
   "id": "8afd287a",
   "metadata": {},
   "outputs": [],
   "source": [
    "# Wrapping the above logic in a single nested list comprehension\n",
    "result = [name for names in all_data for name in names\n",
    "         if name.count(\"a\") >= 2]"
   ]
  },
  {
   "cell_type": "code",
   "execution_count": 23,
   "id": "5a58da6e",
   "metadata": {},
   "outputs": [
    {
     "data": {
      "text/plain": [
       "['Maria', 'Natalia']"
      ]
     },
     "execution_count": 23,
     "metadata": {},
     "output_type": "execute_result"
    }
   ],
   "source": [
    "result"
   ]
  },
  {
   "cell_type": "code",
   "execution_count": null,
   "id": "a59dbc05",
   "metadata": {},
   "outputs": [],
   "source": [
    "# An example of flattening a list of tuples of integers into simple list of integers\n",
    "some_tuples = [(1, 2, 3), (4, 5, 6), (7, 8, 9)]"
   ]
  },
  {
   "cell_type": "code",
   "execution_count": 25,
   "id": "da900231",
   "metadata": {},
   "outputs": [],
   "source": [
    "flattened = [x for tup in some_tuples for x in tup]"
   ]
  },
  {
   "cell_type": "code",
   "execution_count": 26,
   "id": "cc6d1098",
   "metadata": {},
   "outputs": [
    {
     "data": {
      "text/plain": [
       "[1, 2, 3, 4, 5, 6, 7, 8, 9]"
      ]
     },
     "execution_count": 26,
     "metadata": {},
     "output_type": "execute_result"
    }
   ],
   "source": [
    "flattened"
   ]
  },
  {
   "cell_type": "code",
   "execution_count": 27,
   "id": "b7600849",
   "metadata": {},
   "outputs": [],
   "source": [
    "# A nested for loop instead of a list comprehension\n",
    "flattened = []\n",
    "for tup in some_tuples:\n",
    "    for x in tup:\n",
    "        flattened.append(x)"
   ]
  },
  {
   "cell_type": "code",
   "execution_count": null,
   "id": "c266ef8c",
   "metadata": {},
   "outputs": [
    {
     "data": {
      "text/plain": [
       "[[1, 2, 3], [4, 5, 6], [7, 8, 9]]"
      ]
     },
     "execution_count": 29,
     "metadata": {},
     "output_type": "execute_result"
    }
   ],
   "source": [
    "# A list comprehension inside a list comprehension\n",
    "   # The outer comprehension: [... for tup in some_tuples] iterates through each tuple\n",
    "   # The inner comprehension: [x for x in tup] converts each tuple to a list\n",
    "[[x for x in tup] for tup in some_tuples]\n",
    "\n",
    "### The output is the comprehension"
   ]
  },
  {
   "cell_type": "markdown",
   "id": "ba695520",
   "metadata": {},
   "source": [
    "## Functions"
   ]
  },
  {
   "cell_type": "code",
   "execution_count": 30,
   "id": "4e54b529",
   "metadata": {},
   "outputs": [],
   "source": [
    "# Declaring a function\n",
    "def my_function(x, y):\n",
    "    return x + y"
   ]
  },
  {
   "cell_type": "code",
   "execution_count": 34,
   "id": "55aeec94",
   "metadata": {},
   "outputs": [
    {
     "data": {
      "text/plain": [
       "3"
      ]
     },
     "execution_count": 34,
     "metadata": {},
     "output_type": "execute_result"
    }
   ],
   "source": [
    "# Example showing when a a line with return is reached, the value or expression after return is sent to the context where the function was called\n",
    "my_function(1, 2)"
   ]
  },
  {
   "cell_type": "code",
   "execution_count": 32,
   "id": "9d1d4abc",
   "metadata": {},
   "outputs": [],
   "source": [
    "result = my_function(1, 2)"
   ]
  },
  {
   "cell_type": "code",
   "execution_count": 33,
   "id": "ece2b2de",
   "metadata": {},
   "outputs": [
    {
     "data": {
      "text/plain": [
       "3"
      ]
     },
     "execution_count": 33,
     "metadata": {},
     "output_type": "execute_result"
    }
   ],
   "source": [
    "result"
   ]
  },
  {
   "cell_type": "code",
   "execution_count": 41,
   "id": "bd074ce1",
   "metadata": {},
   "outputs": [],
   "source": [
    "# There is no issue with having multiple return statements\n",
    "# Returning None after a function without a return statement\n",
    "def function_without_return(x):\n",
    "    print(x)"
   ]
  },
  {
   "cell_type": "code",
   "execution_count": 44,
   "id": "a6f255b1",
   "metadata": {},
   "outputs": [
    {
     "name": "stdout",
     "output_type": "stream",
     "text": [
      "hello!\n"
     ]
    }
   ],
   "source": [
    "result = function_without_return(\"hello!\")"
   ]
  },
  {
   "cell_type": "code",
   "execution_count": 45,
   "id": "261d3092",
   "metadata": {},
   "outputs": [
    {
     "name": "stdout",
     "output_type": "stream",
     "text": [
      "None\n"
     ]
    }
   ],
   "source": [
    "print(result)"
   ]
  },
  {
   "cell_type": "code",
   "execution_count": null,
   "id": "32c8f849",
   "metadata": {},
   "outputs": [],
   "source": [
    "# positional arguments and keyword arguments\n",
    "# keyword arguments - used to specify default values or optional arguments\n",
    "# Defining a function with keyword arguments\n",
    "def my_function2(x, y, z=1.5):   # z is a keyword argument with a default value of 1.5\n",
    "    if z > 1:\n",
    "       return z * (x + y)\n",
    "    else:\n",
    "       return z / (x + y)"
   ]
  },
  {
   "cell_type": "code",
   "execution_count": null,
   "id": "102543ae",
   "metadata": {},
   "outputs": [
    {
     "data": {
      "text/plain": [
       "0.06363636363636363"
      ]
     },
     "execution_count": 47,
     "metadata": {},
     "output_type": "execute_result"
    }
   ],
   "source": [
    "# keyword arguments are optional, all positional arguments must be specified when calling a function\n",
    "# passing values to tje keyword argument with or without the keyword provided (Using keyword is encouraged)\n",
    "my_function2(5, 6, z =0.7)"
   ]
  },
  {
   "cell_type": "code",
   "execution_count": 48,
   "id": "2874898e",
   "metadata": {},
   "outputs": [
    {
     "data": {
      "text/plain": [
       "35.49"
      ]
     },
     "execution_count": 48,
     "metadata": {},
     "output_type": "execute_result"
    }
   ],
   "source": [
    "my_function2(3.14, 7, 3.5)"
   ]
  },
  {
   "cell_type": "code",
   "execution_count": 49,
   "id": "bdef13e2",
   "metadata": {},
   "outputs": [
    {
     "data": {
      "text/plain": [
       "45.0"
      ]
     },
     "execution_count": 49,
     "metadata": {},
     "output_type": "execute_result"
    }
   ],
   "source": [
    "my_function2(10, 20)"
   ]
  },
  {
   "cell_type": "markdown",
   "id": "68624648",
   "metadata": {},
   "source": [
    "#####\n",
    "NB: The keyword arguments (can be specified in any order) must follow the positional arguments (if any). "
   ]
  },
  {
   "cell_type": "markdown",
   "id": "6410e966",
   "metadata": {},
   "source": [
    "### "
   ]
  },
  {
   "cell_type": "markdown",
   "id": "4a87c123",
   "metadata": {},
   "source": [
    "#### Namespaces, Scope, and Local Functions"
   ]
  },
  {
   "cell_type": "code",
   "execution_count": 50,
   "id": "1b3ca100",
   "metadata": {},
   "outputs": [],
   "source": [
    "def func():\n",
    "    a = []\n",
    "    for i in range(5):\n",
    "        a.append(i)"
   ]
  },
  {
   "cell_type": "code",
   "execution_count": null,
   "id": "1cc6d92d",
   "metadata": {},
   "outputs": [],
   "source": [
    "# When func() is called, the empty list a is created, five elements are appended, and then a is destroyed when the function exits. Suppose instead we had declared a as follows\n",
    "a = []"
   ]
  },
  {
   "cell_type": "code",
   "execution_count": 52,
   "id": "006c39ad",
   "metadata": {},
   "outputs": [],
   "source": [
    "def func():\n",
    "    for i in range(5):\n",
    "        a.append(i)"
   ]
  },
  {
   "cell_type": "code",
   "execution_count": null,
   "id": "0a455789",
   "metadata": {},
   "outputs": [],
   "source": [
    "# Each call to a func will modify list a\n",
    "func()"
   ]
  },
  {
   "cell_type": "code",
   "execution_count": 54,
   "id": "ba60319e",
   "metadata": {},
   "outputs": [
    {
     "data": {
      "text/plain": [
       "[0, 1, 2, 3, 4]"
      ]
     },
     "execution_count": 54,
     "metadata": {},
     "output_type": "execute_result"
    }
   ],
   "source": [
    "a"
   ]
  },
  {
   "cell_type": "code",
   "execution_count": 55,
   "id": "99966445",
   "metadata": {},
   "outputs": [],
   "source": [
    "func()"
   ]
  },
  {
   "cell_type": "code",
   "execution_count": 56,
   "id": "18c38b7d",
   "metadata": {},
   "outputs": [
    {
     "data": {
      "text/plain": [
       "[0, 1, 2, 3, 4, 0, 1, 2, 3, 4]"
      ]
     },
     "execution_count": 56,
     "metadata": {},
     "output_type": "execute_result"
    }
   ],
   "source": [
    "a"
   ]
  },
  {
   "cell_type": "code",
   "execution_count": 57,
   "id": "7bbadd27",
   "metadata": {},
   "outputs": [],
   "source": [
    "# Declaring a variable explicitly using the global keyword when assigning variables outside the function's scope\n",
    "a = None"
   ]
  },
  {
   "cell_type": "code",
   "execution_count": 58,
   "id": "e3c3450f",
   "metadata": {},
   "outputs": [],
   "source": [
    "def bind_a_variable():\n",
    "    global a\n",
    "    a = []\n",
    "bind_a_variable()"
   ]
  },
  {
   "cell_type": "code",
   "execution_count": 59,
   "id": "16cb0352",
   "metadata": {},
   "outputs": [
    {
     "name": "stdout",
     "output_type": "stream",
     "text": [
      "[]\n"
     ]
    }
   ],
   "source": [
    "print(a)"
   ]
  },
  {
   "cell_type": "markdown",
   "id": "5c79716d",
   "metadata": {},
   "source": [
    "#### Returning Multiple Values#### "
   ]
  },
  {
   "cell_type": "code",
   "execution_count": 63,
   "id": "5bb2ad5e",
   "metadata": {},
   "outputs": [],
   "source": [
    "# Syntax for returning Multiple Values from a function\n",
    "def f():\n",
    "    a = 5\n",
    "    b = 6\n",
    "    c = 7\n",
    "    return a, b, c\n"
   ]
  },
  {
   "cell_type": "code",
   "execution_count": 64,
   "id": "35ad9e16",
   "metadata": {},
   "outputs": [],
   "source": [
    "a, b, c = f()"
   ]
  },
  {
   "cell_type": "code",
   "execution_count": 62,
   "id": "764878cc",
   "metadata": {},
   "outputs": [],
   "source": [
    "# Altenative example of returning multiple values\n",
    "return_value = f()"
   ]
  }
 ],
 "metadata": {
  "kernelspec": {
   "display_name": "myenv",
   "language": "python",
   "name": "python3"
  },
  "language_info": {
   "codemirror_mode": {
    "name": "ipython",
    "version": 3
   },
   "file_extension": ".py",
   "mimetype": "text/x-python",
   "name": "python",
   "nbconvert_exporter": "python",
   "pygments_lexer": "ipython3",
   "version": "3.10.16"
  }
 },
 "nbformat": 4,
 "nbformat_minor": 5
}
