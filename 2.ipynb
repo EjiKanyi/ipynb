{
 "cells": [
  {
   "cell_type": "markdown",
   "id": "6f25c170",
   "metadata": {},
   "source": [
    "## Python Language Basics"
   ]
  },
  {
   "cell_type": "markdown",
   "id": "5dd5bd02",
   "metadata": {},
   "source": [
    "### Language Semantics"
   ]
  },
  {
   "cell_type": "markdown",
   "id": "65ff5f7f",
   "metadata": {},
   "source": [
    "#### Indentation, not braces\n",
    "\n",
    "Python uses whitespace (tabs or spaces) to structure code instead of using braces as in\n",
    "many other languages like R, C++, Java, and Perl. Consider a for loop from a sorting algorithm:\n",
    "\n",
    "A colon denotes the start of an indented code block after which all of the code must be indented by the same amount until the end of the block."
   ]
  },
  {
   "cell_type": "code",
   "execution_count": 25,
   "id": "c51cc11d",
   "metadata": {},
   "outputs": [
    {
     "name": "stdout",
     "output_type": "stream",
     "text": [
      "Less than pivot: [4, 2, 3]\n",
      "Greater or equal to pivot: [9, 7, 5]\n"
     ]
    }
   ],
   "source": [
    "array = [4, 9, 2, 7, 3, 5] # Example list\n",
    "pivot = 5                  # Example pivot value\n",
    "less = []                  # Initialize an empty list for values < pivot\n",
    "greater = []               # Initialize an empty list for values >= pivot\n",
    "              \n",
    "\n",
    "for x in array:\n",
    "    if x < pivot:\n",
    "        less.append(x)\n",
    "    else:\n",
    "        greater.append(x)    \n",
    "\n",
    "print(\"Less than pivot:\", less)\n",
    "print(\"Greater or equal to pivot:\", greater)"
   ]
  },
  {
   "cell_type": "code",
   "execution_count": 26,
   "id": "4b8fc111",
   "metadata": {},
   "outputs": [],
   "source": [
    "a = 5; b = 6; c = 7 #semicolons are used to separate multiple statements on a single line"
   ]
  },
  {
   "cell_type": "markdown",
   "id": "c11e1a9e",
   "metadata": {},
   "source": [
    "#### Comments\n",
    "\n",
    "They are texts preceded by the  harsh mark (#) and are ignored by the python interpreter.\n",
    "\n",
    "Sometimes used to exclude certain blocks of code without deleting them.\n",
    "\n",
    "They can also occur after a line of executed code."
   ]
  },
  {
   "cell_type": "code",
   "execution_count": null,
   "id": "97075379",
   "metadata": {},
   "outputs": [
    {
     "ename": "NameError",
     "evalue": "name 'file_handle' is not defined",
     "output_type": "error",
     "traceback": [
      "\u001b[1;31m---------------------------------------------------------------------------\u001b[0m",
      "\u001b[1;31mNameError\u001b[0m                                 Traceback (most recent call last)",
      "Cell \u001b[1;32mIn[28], line 2\u001b[0m\n\u001b[0;32m      1\u001b[0m results \u001b[38;5;241m=\u001b[39m []\n\u001b[1;32m----> 2\u001b[0m \u001b[38;5;28;01mfor\u001b[39;00m line \u001b[38;5;129;01min\u001b[39;00m \u001b[43mfile_handle\u001b[49m:\n\u001b[0;32m      3\u001b[0m     \u001b[38;5;66;03m# keep the empty lines  for now\u001b[39;00m\n\u001b[0;32m      4\u001b[0m     \u001b[38;5;66;03m# if len(line) ==0:\u001b[39;00m\n\u001b[0;32m      5\u001b[0m     \u001b[38;5;66;03m# continue\u001b[39;00m\n\u001b[0;32m      6\u001b[0m     results\u001b[38;5;241m.\u001b[39mappend(line\u001b[38;5;241m.\u001b[39mreplace(\u001b[38;5;124m\"\u001b[39m\u001b[38;5;124mfoo\u001b[39m\u001b[38;5;124m\"\u001b[39m, \u001b[38;5;124m\"\u001b[39m\u001b[38;5;124mbar\u001b[39m\u001b[38;5;124m\"\u001b[39m))\n",
      "\u001b[1;31mNameError\u001b[0m: name 'file_handle' is not defined"
     ]
    }
   ],
   "source": [
    "results = []\n",
    "for line in file_handle:\n",
    "    # keep the empty lines  for now\n",
    "    # if len(line) == 0:\n",
    "    # continue\n",
    "    results.append(line.replace(\"foo\", \"bar\"))"
   ]
  },
  {
   "cell_type": "code",
   "execution_count": 31,
   "id": "8e0b80f5",
   "metadata": {},
   "outputs": [
    {
     "name": "stdout",
     "output_type": "stream",
     "text": [
      "Reached this line\n"
     ]
    }
   ],
   "source": [
    "print(\"Reached this line\") #Simple status report"
   ]
  },
  {
   "cell_type": "markdown",
   "id": "36da1851",
   "metadata": {},
   "source": [
    "#### Function and object method calls\n",
    "\n",
    "Functions can be using parentheses and passing zero or more arguments, optionally assigning the returned value to a variable.\n",
    "\n"
   ]
  },
  {
   "cell_type": "code",
   "execution_count": 37,
   "id": "c4aefd49",
   "metadata": {},
   "outputs": [
    {
     "name": "stdout",
     "output_type": "stream",
     "text": [
      "(g)\n"
     ]
    }
   ],
   "source": [
    "result = f(x, y, z)\n",
    "g()"
   ]
  },
  {
   "cell_type": "code",
   "execution_count": 36,
   "id": "17ea62d2",
   "metadata": {},
   "outputs": [
    {
     "name": "stdout",
     "output_type": "stream",
     "text": [
      "Result: 60\n",
      "(g)\n"
     ]
    }
   ],
   "source": [
    "# Define the functions first\n",
    "def f(x, y, z):\n",
    "    \"\"\"A simple function that adds three numbers\"\"\"\n",
    "    return x + y + z\n",
    "\n",
    "def g():\n",
    "    \"\"\"A function with no parameters\"\"\"\n",
    "    print(\"(g)\")\n",
    "\n",
    "# Define some variables\n",
    "x = 10\n",
    "y = 20\n",
    "z = 30\n",
    "\n",
    "# Now you can call them\n",
    "result = f(x, y, z)\n",
    "print(f\"Result: {result}\")  # Output: Result: 60\n",
    "\n",
    "g()  # Output: Hello from function g!"
   ]
  },
  {
   "cell_type": "code",
   "execution_count": null,
   "id": "13a0421f",
   "metadata": {},
   "outputs": [],
   "source": [
    "# Syntax for calling attached functions (Methods) that have access to the object's internal contents\n",
    "obj.some_method(x, y, z) "
   ]
  },
  {
   "cell_type": "code",
   "execution_count": 42,
   "id": "ad3529ed",
   "metadata": {},
   "outputs": [
    {
     "name": "stdout",
     "output_type": "stream",
     "text": [
      "[1, 2, 3, 4]\n",
      "[1, 2, 3, 4, 10, 20, 30]\n"
     ]
    }
   ],
   "source": [
    "# Create a list object\n",
    "obj = [1, 2, 3]\n",
    "\n",
    "# Call methods on it\n",
    "obj.append(4)  # Method call with one parameter\n",
    "print(obj)     # Output: [1, 2, 3, 4]\n",
    "\n",
    "# Define variables for method parameters\n",
    "x, y, z = 10, 20, 30\n",
    "obj.extend([x, y, z])  # Method call using variables\n",
    "print(obj)     "
   ]
  },
  {
   "cell_type": "code",
   "execution_count": 44,
   "id": "4071d80c",
   "metadata": {},
   "outputs": [
    {
     "ename": "TypeError",
     "evalue": "f() got an unexpected keyword argument 'd'",
     "output_type": "error",
     "traceback": [
      "\u001b[1;31m---------------------------------------------------------------------------\u001b[0m",
      "\u001b[1;31mTypeError\u001b[0m                                 Traceback (most recent call last)",
      "Cell \u001b[1;32mIn[44], line 2\u001b[0m\n\u001b[0;32m      1\u001b[0m \u001b[38;5;66;03m# Functions can take both positional and keyword arguments \u001b[39;00m\n\u001b[1;32m----> 2\u001b[0m result \u001b[38;5;241m=\u001b[39m \u001b[43mf\u001b[49m\u001b[43m(\u001b[49m\u001b[43ma\u001b[49m\u001b[43m,\u001b[49m\u001b[43m \u001b[49m\u001b[43mb\u001b[49m\u001b[43m,\u001b[49m\u001b[43m \u001b[49m\u001b[43mc\u001b[49m\u001b[43m,\u001b[49m\u001b[43m \u001b[49m\u001b[43md\u001b[49m\u001b[38;5;241;43m=\u001b[39;49m\u001b[38;5;241;43m5\u001b[39;49m\u001b[43m,\u001b[49m\u001b[43m \u001b[49m\u001b[43me\u001b[49m\u001b[38;5;241;43m=\u001b[39;49m\u001b[38;5;124;43m\"\u001b[39;49m\u001b[38;5;124;43mfoo\u001b[39;49m\u001b[38;5;124;43m\"\u001b[39;49m\u001b[43m)\u001b[49m\n",
      "\u001b[1;31mTypeError\u001b[0m: f() got an unexpected keyword argument 'd'"
     ]
    }
   ],
   "source": [
    "# Functions can take both positional and keyword arguments \n",
    "result = f(a, b, c, d=5, e=\"foo\")"
   ]
  },
  {
   "cell_type": "code",
   "execution_count": 45,
   "id": "8ce0cb2a",
   "metadata": {},
   "outputs": [
    {
     "name": "stdout",
     "output_type": "stream",
     "text": [
      "Positional arguments: (1, 2, 3)\n",
      "Keyword arguments: {'d': 5, 'e': 'foo', 'name': 'example'}\n",
      "Sum of positional args: 6\n",
      "  d = 5\n",
      "  e = foo\n",
      "  name = example\n"
     ]
    }
   ],
   "source": [
    "def flexible_function(*args, **kwargs):\n",
    "    \"\"\"Function that accepts any number of positional and keyword arguments\"\"\"\n",
    "    print(f\"Positional arguments: {args}\")\n",
    "    print(f\"Keyword arguments: {kwargs}\")\n",
    "    \n",
    "    # Process the arguments\n",
    "    if args:\n",
    "        total = sum(args)\n",
    "        print(f\"Sum of positional args: {total}\")\n",
    "    \n",
    "    for key, value in kwargs.items():\n",
    "        print(f\"  {key} = {value}\")\n",
    "\n",
    "# Now you can call it with any arguments\n",
    "flexible_function(1, 2, 3, d=5, e=\"foo\", name=\"example\")"
   ]
  },
  {
   "cell_type": "markdown",
   "id": "78fb8e87",
   "metadata": {},
   "source": [
    "#### Variable and Argument Passing"
   ]
  },
  {
   "cell_type": "code",
   "execution_count": 46,
   "id": "fe399727",
   "metadata": {},
   "outputs": [],
   "source": [
    "a = [1,2,3]"
   ]
  },
  {
   "cell_type": "code",
   "execution_count": 47,
   "id": "6cde793f",
   "metadata": {},
   "outputs": [
    {
     "data": {
      "text/plain": [
       "[1, 2, 3]"
      ]
     },
     "execution_count": 47,
     "metadata": {},
     "output_type": "execute_result"
    }
   ],
   "source": [
    "b = a\n",
    "b"
   ]
  },
  {
   "cell_type": "code",
   "execution_count": 48,
   "id": "ae27ac55",
   "metadata": {},
   "outputs": [],
   "source": [
    "a.append(4)"
   ]
  },
  {
   "cell_type": "code",
   "execution_count": 49,
   "id": "e3195dde",
   "metadata": {},
   "outputs": [
    {
     "data": {
      "text/plain": [
       "[1, 2, 3, 4]"
      ]
     },
     "execution_count": 49,
     "metadata": {},
     "output_type": "execute_result"
    }
   ],
   "source": [
    "b"
   ]
  },
  {
   "cell_type": "markdown",
   "id": "aa9b4c58",
   "metadata": {},
   "source": [
    "#### Dynamic References, strong types"
   ]
  },
  {
   "cell_type": "code",
   "execution_count": 50,
   "id": "62aa588b",
   "metadata": {},
   "outputs": [],
   "source": [
    "# a variable can refer to a different type of object simply by doing an assignment."
   ]
  },
  {
   "cell_type": "code",
   "execution_count": 51,
   "id": "a127dbf3",
   "metadata": {},
   "outputs": [],
   "source": [
    "a = 5"
   ]
  },
  {
   "cell_type": "code",
   "execution_count": 52,
   "id": "f0dac95f",
   "metadata": {},
   "outputs": [
    {
     "data": {
      "text/plain": [
       "int"
      ]
     },
     "execution_count": 52,
     "metadata": {},
     "output_type": "execute_result"
    }
   ],
   "source": [
    "type(a)"
   ]
  },
  {
   "cell_type": "code",
   "execution_count": 53,
   "id": "2252976a",
   "metadata": {},
   "outputs": [],
   "source": [
    "a = \"foo\""
   ]
  },
  {
   "cell_type": "code",
   "execution_count": 54,
   "id": "afac9700",
   "metadata": {},
   "outputs": [
    {
     "data": {
      "text/plain": [
       "str"
      ]
     },
     "execution_count": 54,
     "metadata": {},
     "output_type": "execute_result"
    }
   ],
   "source": [
    "type(a)"
   ]
  },
  {
   "cell_type": "code",
   "execution_count": 55,
   "id": "8ac6cb5c",
   "metadata": {},
   "outputs": [],
   "source": [
    "# Variables are names for objects within a particular namespace; the type information is stored in the object itself. Some observers might hastily conclude that Python is not a “typed language.” This is not true;"
   ]
  },
  {
   "cell_type": "code",
   "execution_count": 57,
   "id": "107a3e8c",
   "metadata": {},
   "outputs": [
    {
     "ename": "TypeError",
     "evalue": "can only concatenate str (not \"int\") to str",
     "output_type": "error",
     "traceback": [
      "\u001b[1;31m---------------------------------------------------------------------------\u001b[0m",
      "\u001b[1;31mTypeError\u001b[0m                                 Traceback (most recent call last)",
      "Cell \u001b[1;32mIn[57], line 1\u001b[0m\n\u001b[1;32m----> 1\u001b[0m \u001b[38;5;124;43m\"\u001b[39;49m\u001b[38;5;124;43m5\u001b[39;49m\u001b[38;5;124;43m\"\u001b[39;49m\u001b[43m \u001b[49m\u001b[38;5;241;43m+\u001b[39;49m\u001b[43m \u001b[49m\u001b[38;5;241;43m5\u001b[39;49m\n",
      "\u001b[1;31mTypeError\u001b[0m: can only concatenate str (not \"int\") to str"
     ]
    }
   ],
   "source": [
    "\"5\" + 5 # This will raise an error because you cannot concatenate a string and an integer"
   ]
  },
  {
   "cell_type": "code",
   "execution_count": 58,
   "id": "07002212",
   "metadata": {},
   "outputs": [],
   "source": [
    "# Python is a strongly typed language, which means that every object has a specific type (or class), and implicit conversions will occur only in certain permitted circumstances, such as:"
   ]
  },
  {
   "cell_type": "code",
   "execution_count": 59,
   "id": "b68a4ddc",
   "metadata": {},
   "outputs": [],
   "source": [
    "a = 4.5"
   ]
  },
  {
   "cell_type": "code",
   "execution_count": 60,
   "id": "06d54524",
   "metadata": {},
   "outputs": [],
   "source": [
    "b = 2"
   ]
  },
  {
   "cell_type": "code",
   "execution_count": 61,
   "id": "036bcc6c",
   "metadata": {},
   "outputs": [
    {
     "name": "stdout",
     "output_type": "stream",
     "text": [
      "a is <class 'float'>, b is <class 'int'>\n"
     ]
    }
   ],
   "source": [
    "print(f\"a is {type(a)}, b is {type(b)}\")"
   ]
  },
  {
   "cell_type": "code",
   "execution_count": 62,
   "id": "682c2399",
   "metadata": {},
   "outputs": [
    {
     "data": {
      "text/plain": [
       "2.25"
      ]
     },
     "execution_count": 62,
     "metadata": {},
     "output_type": "execute_result"
    }
   ],
   "source": [
    "# Here, even though b is an integer, it is implicitly converted to a float for the division operation.\n",
    "a/b"
   ]
  },
  {
   "cell_type": "code",
   "execution_count": 63,
   "id": "871cf8ce",
   "metadata": {},
   "outputs": [],
   "source": [
    "# using the isinstance function to check that an object is an instance of a particular type\n",
    "\n",
    "a = 5"
   ]
  },
  {
   "cell_type": "code",
   "execution_count": 64,
   "id": "dd0e2c7f",
   "metadata": {},
   "outputs": [
    {
     "data": {
      "text/plain": [
       "True"
      ]
     },
     "execution_count": 64,
     "metadata": {},
     "output_type": "execute_result"
    }
   ],
   "source": [
    "isinstance(a, int)"
   ]
  },
  {
   "cell_type": "code",
   "execution_count": 65,
   "id": "38def52e",
   "metadata": {},
   "outputs": [],
   "source": [
    "# isinstance can accept a tuple of types if you want to check that an object’s type is among those present in the tuple:\n",
    "a = 7; b = 6.5"
   ]
  },
  {
   "cell_type": "code",
   "execution_count": 66,
   "id": "44c1f5e5",
   "metadata": {},
   "outputs": [
    {
     "data": {
      "text/plain": [
       "True"
      ]
     },
     "execution_count": 66,
     "metadata": {},
     "output_type": "execute_result"
    }
   ],
   "source": [
    "isinstance(a,(int, float))"
   ]
  },
  {
   "cell_type": "code",
   "execution_count": 67,
   "id": "f5a06c19",
   "metadata": {},
   "outputs": [
    {
     "data": {
      "text/plain": [
       "True"
      ]
     },
     "execution_count": 67,
     "metadata": {},
     "output_type": "execute_result"
    }
   ],
   "source": [
    "isinstance(b,(int, float))"
   ]
  },
  {
   "cell_type": "markdown",
   "id": "366f53fc",
   "metadata": {},
   "source": [
    "#### Attribution and Methods\n",
    "\n",
    "Objects in Python typically have both attributes (other Python objects stored\n",
    "“inside” the object) and methods (functions associated with an object that can\n",
    "have access to the object’s internal data). Both of them are accessed via the syntax obj.attribute_name:"
   ]
  },
  {
   "cell_type": "code",
   "execution_count": 68,
   "id": "20397b67",
   "metadata": {},
   "outputs": [],
   "source": [
    "a = \"foo\""
   ]
  },
  {
   "cell_type": "code",
   "execution_count": 69,
   "id": "71d69973",
   "metadata": {},
   "outputs": [
    {
     "data": {
      "text/plain": [
       "<function str.capitalize()>"
      ]
     },
     "execution_count": 69,
     "metadata": {},
     "output_type": "execute_result"
    }
   ],
   "source": [
    "a.capitalize"
   ]
  },
  {
   "cell_type": "code",
   "execution_count": 70,
   "id": "322bc09d",
   "metadata": {},
   "outputs": [
    {
     "data": {
      "text/plain": [
       "<function str.split(sep=None, maxsplit=-1)>"
      ]
     },
     "execution_count": 70,
     "metadata": {},
     "output_type": "execute_result"
    }
   ],
   "source": [
    "# Attributes and methods can also be accessed by name via the getattr function:\n",
    "getattr(a, \"split\")"
   ]
  },
  {
   "cell_type": "markdown",
   "id": "0b0c880e",
   "metadata": {},
   "source": [
    "#### Duck Typing\n",
    "\n",
    "This is a a programming concept where an object's suitability is determined by its ability to perform certain actions (methods or attributes) rather than its declared type. \n",
    "\n",
    "For example, you can verify that an object is iterable if it implements the iterator protocol. For many objects,\n",
    "this means it has an __iter__ “magic method,” though an alternative and better way\n",
    "to check is to try using the iter function:\n"
   ]
  },
  {
   "cell_type": "code",
   "execution_count": 71,
   "id": "b9ccd208",
   "metadata": {},
   "outputs": [],
   "source": [
    "def isiterable(obj):\n",
    "   try:\n",
    "      iter(obj)\n",
    "      return True\n",
    "   except TypeError: # not iterable\n",
    "     return False"
   ]
  },
  {
   "cell_type": "code",
   "execution_count": 72,
   "id": "1b2fa254",
   "metadata": {},
   "outputs": [],
   "source": [
    "# This function would return True for strings as well as most Python collection types:"
   ]
  },
  {
   "cell_type": "code",
   "execution_count": 73,
   "id": "d7f67091",
   "metadata": {},
   "outputs": [
    {
     "data": {
      "text/plain": [
       "True"
      ]
     },
     "execution_count": 73,
     "metadata": {},
     "output_type": "execute_result"
    }
   ],
   "source": [
    "isiterable(\"a string\")"
   ]
  },
  {
   "cell_type": "code",
   "execution_count": 74,
   "id": "f5f0808c",
   "metadata": {},
   "outputs": [
    {
     "data": {
      "text/plain": [
       "True"
      ]
     },
     "execution_count": 74,
     "metadata": {},
     "output_type": "execute_result"
    }
   ],
   "source": [
    "isiterable([1, 2, 3])"
   ]
  },
  {
   "cell_type": "code",
   "execution_count": 75,
   "id": "0a0527d3",
   "metadata": {},
   "outputs": [
    {
     "data": {
      "text/plain": [
       "False"
      ]
     },
     "execution_count": 75,
     "metadata": {},
     "output_type": "execute_result"
    }
   ],
   "source": [
    "isiterable(5)"
   ]
  },
  {
   "cell_type": "markdown",
   "id": "aab96b5b",
   "metadata": {},
   "source": [
    "#### Imports"
   ]
  },
  {
   "cell_type": "code",
   "execution_count": 76,
   "id": "665ee1a8",
   "metadata": {},
   "outputs": [],
   "source": [
    "# In Python, a module is simply a file with the .py extension containing Python code"
   ]
  },
  {
   "cell_type": "code",
   "execution_count": 77,
   "id": "20a57856",
   "metadata": {},
   "outputs": [],
   "source": [
    "# some_module.py\n",
    "PI = 3.14159\n",
    "def f(x):\n",
    " return x + 2\n",
    "\n",
    "def g(a, b):\n",
    " return a + b"
   ]
  },
  {
   "cell_type": "code",
   "execution_count": 78,
   "id": "0c4f9e33",
   "metadata": {},
   "outputs": [
    {
     "name": "stdout",
     "output_type": "stream",
     "text": [
      "c:\\Users\\kanyi\\Desktop\\ipynb\n"
     ]
    }
   ],
   "source": [
    "import os\n",
    "print(os.getcwd())  # Shows where Python is looking for files"
   ]
  },
  {
   "cell_type": "code",
   "execution_count": null,
   "id": "475c0bdf",
   "metadata": {},
   "outputs": [],
   "source": [
    "# How to access the variables and functions defined in some_module.py, from another file in the same directory\n",
    "import some_module\n",
    "result = some_module.f(5)\n",
    "pi = some_module.PI"
   ]
  },
  {
   "cell_type": "code",
   "execution_count": null,
   "id": "3fa9c92f",
   "metadata": {},
   "outputs": [],
   "source": [
    "# Or alternatively, you can import specific functions or variables directly:\n",
    "from some_module import f, PI\n",
    "from some_module import g, PI\n",
    "result = g(5, PI)"
   ]
  },
  {
   "cell_type": "code",
   "execution_count": null,
   "id": "db53eb2a",
   "metadata": {},
   "outputs": [],
   "source": [
    "# By using the as keyword, you can give imports different variable names\n",
    "import some_module as sm\n",
    "from some_module import PI as pi, g as gf\n",
    "r1 = sm.f(pi)\n",
    "r2 = gf(6, pi)"
   ]
  },
  {
   "cell_type": "markdown",
   "id": "60569c56",
   "metadata": {},
   "source": [
    "#### Binary Operators and Comaprisons\n",
    "\n",
    "Most of the binary math operations and comparisons use familiar mathematical\n",
    "syntax used in other programming languages"
   ]
  },
  {
   "cell_type": "code",
   "execution_count": 87,
   "id": "fc6fa17c",
   "metadata": {},
   "outputs": [
    {
     "data": {
      "text/plain": [
       "-2"
      ]
     },
     "execution_count": 87,
     "metadata": {},
     "output_type": "execute_result"
    }
   ],
   "source": [
    "5-7"
   ]
  },
  {
   "cell_type": "code",
   "execution_count": 88,
   "id": "112ace61",
   "metadata": {},
   "outputs": [
    {
     "data": {
      "text/plain": [
       "33.5"
      ]
     },
     "execution_count": 88,
     "metadata": {},
     "output_type": "execute_result"
    }
   ],
   "source": [
    "12 + 21.5"
   ]
  },
  {
   "cell_type": "code",
   "execution_count": 89,
   "id": "8393861b",
   "metadata": {},
   "outputs": [
    {
     "data": {
      "text/plain": [
       "False"
      ]
     },
     "execution_count": 89,
     "metadata": {},
     "output_type": "execute_result"
    }
   ],
   "source": [
    "5<=2"
   ]
  },
  {
   "cell_type": "code",
   "execution_count": 90,
   "id": "d1524e1c",
   "metadata": {},
   "outputs": [],
   "source": [
    "# Use the \"is\" keyword to check if two variables refer to the same object\n",
    "a = [1, 2, 3]"
   ]
  },
  {
   "cell_type": "code",
   "execution_count": 91,
   "id": "e6ab65a3",
   "metadata": {},
   "outputs": [],
   "source": [
    "b = a"
   ]
  },
  {
   "cell_type": "code",
   "execution_count": 92,
   "id": "66c69e31",
   "metadata": {},
   "outputs": [],
   "source": [
    "c = list(a)"
   ]
  },
  {
   "cell_type": "code",
   "execution_count": 93,
   "id": "464b8dbb",
   "metadata": {},
   "outputs": [
    {
     "data": {
      "text/plain": [
       "True"
      ]
     },
     "execution_count": 93,
     "metadata": {},
     "output_type": "execute_result"
    }
   ],
   "source": [
    "a is b"
   ]
  },
  {
   "cell_type": "code",
   "execution_count": 94,
   "id": "f0302681",
   "metadata": {},
   "outputs": [
    {
     "data": {
      "text/plain": [
       "True"
      ]
     },
     "execution_count": 94,
     "metadata": {},
     "output_type": "execute_result"
    }
   ],
   "source": [
    "a is not c"
   ]
  },
  {
   "cell_type": "code",
   "execution_count": 96,
   "id": "6a67bb92",
   "metadata": {},
   "outputs": [
    {
     "data": {
      "text/plain": [
       "True"
      ]
     },
     "execution_count": 96,
     "metadata": {},
     "output_type": "execute_result"
    }
   ],
   "source": [
    "# Since the list function always creates a new Python list (i.e., a copy), we can be sure that c is distinct from a. Comparing with is is not the same as the == operator, because in this case we have:\n",
    "\n",
    "a == c  # This checks if the contents are the same, not if they are the same object"
   ]
  },
  {
   "cell_type": "code",
   "execution_count": 97,
   "id": "199c35ac",
   "metadata": {},
   "outputs": [
    {
     "data": {
      "text/plain": [
       "False"
      ]
     },
     "execution_count": 97,
     "metadata": {},
     "output_type": "execute_result"
    }
   ],
   "source": [
    "a is c  # This checks if they are the same object in memory"
   ]
  },
  {
   "cell_type": "code",
   "execution_count": 98,
   "id": "01037371",
   "metadata": {},
   "outputs": [],
   "source": [
    "# \"is\" and \"is not\" is to check if a variable is None, since there is only one instance of None\n",
    "a = None"
   ]
  },
  {
   "cell_type": "code",
   "execution_count": 99,
   "id": "4c7ee51e",
   "metadata": {},
   "outputs": [
    {
     "data": {
      "text/plain": [
       "True"
      ]
     },
     "execution_count": 99,
     "metadata": {},
     "output_type": "execute_result"
    }
   ],
   "source": [
    "a is None"
   ]
  },
  {
   "cell_type": "markdown",
   "id": "266e3114",
   "metadata": {},
   "source": [
    "#### Mutable and Immutable Objects\n",
    "\n",
    "Many objects, such as lists, dictionaries, NumPy arrays, and most userdefined\n",
    "types (classes), are mutable. This means that the object or values that they\n",
    "contain can be modified.\n",
    "\n",
    "Others, like strings and tuples, are immutable, which means their internal data\n",
    "cannot be changed."
   ]
  },
  {
   "cell_type": "code",
   "execution_count": 100,
   "id": "018a6f51",
   "metadata": {},
   "outputs": [],
   "source": [
    "a_list = [\"foo\", 2, [4, 5]]  # Example list with a mutable inner list"
   ]
  },
  {
   "cell_type": "code",
   "execution_count": 102,
   "id": "98e6a972",
   "metadata": {},
   "outputs": [],
   "source": [
    "a_list[2] = (3, 4)  # Changing the inner list to a tuple"
   ]
  },
  {
   "cell_type": "code",
   "execution_count": 103,
   "id": "f41fa479",
   "metadata": {},
   "outputs": [
    {
     "data": {
      "text/plain": [
       "['foo', 2, (3, 4)]"
      ]
     },
     "execution_count": 103,
     "metadata": {},
     "output_type": "execute_result"
    }
   ],
   "source": [
    "a_list"
   ]
  },
  {
   "cell_type": "code",
   "execution_count": 106,
   "id": "e321ac08",
   "metadata": {},
   "outputs": [],
   "source": [
    "# strings and tuples, are immutable, which means their internal data cannot be changed"
   ]
  },
  {
   "cell_type": "code",
   "execution_count": 104,
   "id": "4de5fd11",
   "metadata": {},
   "outputs": [],
   "source": [
    "a_tuple =(3, 5, (4, 5))"
   ]
  },
  {
   "cell_type": "code",
   "execution_count": 105,
   "id": "9f5f5c69",
   "metadata": {},
   "outputs": [
    {
     "ename": "TypeError",
     "evalue": "'tuple' object does not support item assignment",
     "output_type": "error",
     "traceback": [
      "\u001b[1;31m---------------------------------------------------------------------------\u001b[0m",
      "\u001b[1;31mTypeError\u001b[0m                                 Traceback (most recent call last)",
      "Cell \u001b[1;32mIn[105], line 1\u001b[0m\n\u001b[1;32m----> 1\u001b[0m a_tuple[\u001b[38;5;241m1\u001b[39m] \u001b[38;5;241m=\u001b[39m \u001b[38;5;124m\"\u001b[39m\u001b[38;5;124mfour\u001b[39m\u001b[38;5;124m\"\u001b[39m\n",
      "\u001b[1;31mTypeError\u001b[0m: 'tuple' object does not support item assignment"
     ]
    }
   ],
   "source": [
    "a_tuple[1] = \"four\""
   ]
  },
  {
   "cell_type": "markdown",
   "id": "0130b4ca",
   "metadata": {},
   "source": [
    "### Scalar Types\n",
    "\n",
    "This refer to a small set of built-in types for handling numerical data, strings, Boolean(True or False) values, and dates and time.\n",
    "\n",
    "Standard Python scalar types\n",
    "\n",
    "None -> The Python “null” value (only one instance of the None object exists)\n",
    "\n",
    "str -> String type; holds Unicode strings\n",
    "\n",
    "bytes -> Raw binary data\n",
    "\n",
    "float -> Double-precision floating-point number (note there is no separate double type)\n",
    "\n",
    "bool -> A Boolean True or False value\n",
    "\n",
    "int -> Arbitrary precision integer"
   ]
  },
  {
   "cell_type": "markdown",
   "id": "31910042",
   "metadata": {},
   "source": [
    "#### Numeric Types\n",
    "\n",
    "The primary Python types for numbers are int and float. \n",
    "An int can store arbitrarily large numbers."
   ]
  },
  {
   "cell_type": "code",
   "execution_count": 107,
   "id": "15b133a6",
   "metadata": {},
   "outputs": [],
   "source": [
    "ival = 17239871"
   ]
  },
  {
   "cell_type": "code",
   "execution_count": 108,
   "id": "c73028b1",
   "metadata": {},
   "outputs": [
    {
     "data": {
      "text/plain": [
       "26254519291092456596965462913230729701102721"
      ]
     },
     "execution_count": 108,
     "metadata": {},
     "output_type": "execute_result"
    }
   ],
   "source": [
    "ival ** 6"
   ]
  },
  {
   "cell_type": "markdown",
   "id": "ccd1c531",
   "metadata": {},
   "source": [
    "#####\n",
    "\n",
    "Floating-point numbers are represented with the Python float type. Under the hood, each one is a double-precision value. They can also be expressed with scientific notation."
   ]
  },
  {
   "cell_type": "code",
   "execution_count": 109,
   "id": "ae12a0a6",
   "metadata": {},
   "outputs": [],
   "source": [
    "fval = 7.243"
   ]
  },
  {
   "cell_type": "code",
   "execution_count": 110,
   "id": "d955f5bb",
   "metadata": {},
   "outputs": [],
   "source": [
    "fval2 = 6.78e-5"
   ]
  },
  {
   "cell_type": "markdown",
   "id": "c15d53e5",
   "metadata": {},
   "source": [
    "#####\n",
    "Integer division not resulting in a whole number will always yield a floating-point\n",
    "number"
   ]
  },
  {
   "cell_type": "code",
   "execution_count": 111,
   "id": "77a7f394",
   "metadata": {},
   "outputs": [
    {
     "data": {
      "text/plain": [
       "1.5"
      ]
     },
     "execution_count": 111,
     "metadata": {},
     "output_type": "execute_result"
    }
   ],
   "source": [
    "3 / 2"
   ]
  },
  {
   "cell_type": "markdown",
   "id": "691e818b",
   "metadata": {},
   "source": [
    "#####\n",
    "To get C-style integer division (which drops the fractional part if the result is not a whole number), use the floor division operator //."
   ]
  },
  {
   "cell_type": "code",
   "execution_count": 112,
   "id": "c6afb745",
   "metadata": {},
   "outputs": [
    {
     "data": {
      "text/plain": [
       "1"
      ]
     },
     "execution_count": 112,
     "metadata": {},
     "output_type": "execute_result"
    }
   ],
   "source": [
    "3 // 2"
   ]
  },
  {
   "cell_type": "markdown",
   "id": "19f93ef2",
   "metadata": {},
   "source": [
    "#### Strings \n",
    "\n",
    "They can be written using either single quotes ' or double quotes \" (double quotes are generally favored)"
   ]
  },
  {
   "cell_type": "code",
   "execution_count": 116,
   "id": "fd7eeb5b",
   "metadata": {},
   "outputs": [],
   "source": [
    "a = 'one way of writing a string'\n",
    "b = \"another way\""
   ]
  },
  {
   "cell_type": "markdown",
   "id": "635b515a",
   "metadata": {},
   "source": [
    "#####\n",
    "For multiline strings with line breaks, you can use triple quotes, either ''' or \"\"\""
   ]
  },
  {
   "cell_type": "code",
   "execution_count": 114,
   "id": "80f3dce4",
   "metadata": {},
   "outputs": [],
   "source": [
    "c = \"\"\"\n",
    "This is a longer string that\n",
    "spans\n",
    "multiple lines\n",
    "\"\"\""
   ]
  },
  {
   "cell_type": "markdown",
   "id": "dcf62359",
   "metadata": {},
   "source": [
    "#####\n",
    "The string c actually contains four lines of text; the line breaks after \"\"\" and after lines are included in the string. We can count the new line\n",
    "characters with the count method on c."
   ]
  },
  {
   "cell_type": "code",
   "execution_count": 115,
   "id": "79890b2b",
   "metadata": {},
   "outputs": [
    {
     "data": {
      "text/plain": [
       "4"
      ]
     },
     "execution_count": 115,
     "metadata": {},
     "output_type": "execute_result"
    }
   ],
   "source": [
    "c.count(\"\\n\")"
   ]
  },
  {
   "cell_type": "markdown",
   "id": "2dfafffd",
   "metadata": {},
   "source": [
    "##### \n",
    "Python strings are immutable; you cannot modify a string."
   ]
  },
  {
   "cell_type": "code",
   "execution_count": 117,
   "id": "ccb701cc",
   "metadata": {},
   "outputs": [],
   "source": [
    "a = \"this is a string\""
   ]
  },
  {
   "cell_type": "code",
   "execution_count": 118,
   "id": "c52bf6be",
   "metadata": {},
   "outputs": [
    {
     "ename": "TypeError",
     "evalue": "'str' object does not support item assignment",
     "output_type": "error",
     "traceback": [
      "\u001b[1;31m---------------------------------------------------------------------------\u001b[0m",
      "\u001b[1;31mTypeError\u001b[0m                                 Traceback (most recent call last)",
      "Cell \u001b[1;32mIn[118], line 1\u001b[0m\n\u001b[1;32m----> 1\u001b[0m a[\u001b[38;5;241m10\u001b[39m] \u001b[38;5;241m=\u001b[39m \u001b[38;5;124m\"\u001b[39m\u001b[38;5;124mf\u001b[39m\u001b[38;5;124m\"\u001b[39m\n",
      "\u001b[1;31mTypeError\u001b[0m: 'str' object does not support item assignment"
     ]
    }
   ],
   "source": [
    "a[10] = \"f\""
   ]
  },
  {
   "cell_type": "markdown",
   "id": "d3038368",
   "metadata": {},
   "source": [
    "#####\n",
    "The error message above read from the bottom up. We tried to replace the character (the “item”) at position 10 with the letter \"f\", but this is not allowed for string objects. If we need to modify a string, we have to use a function or method that creates a new string, such as the string replace method."
   ]
  },
  {
   "cell_type": "code",
   "execution_count": 119,
   "id": "c9e6de90",
   "metadata": {},
   "outputs": [],
   "source": [
    "b = a.replace(\"string\", \"longer string\")"
   ]
  },
  {
   "cell_type": "code",
   "execution_count": 120,
   "id": "bacce52d",
   "metadata": {},
   "outputs": [
    {
     "data": {
      "text/plain": [
       "'this is a longer string'"
      ]
     },
     "execution_count": 120,
     "metadata": {},
     "output_type": "execute_result"
    }
   ],
   "source": [
    "b"
   ]
  },
  {
   "cell_type": "markdown",
   "id": "3383e36a",
   "metadata": {},
   "source": [
    "#####\n",
    "After this operation, the variable \"a\" is unmodified."
   ]
  },
  {
   "cell_type": "code",
   "execution_count": 121,
   "id": "3c06d9d2",
   "metadata": {},
   "outputs": [
    {
     "data": {
      "text/plain": [
       "'this is a string'"
      ]
     },
     "execution_count": 121,
     "metadata": {},
     "output_type": "execute_result"
    }
   ],
   "source": [
    "a"
   ]
  },
  {
   "cell_type": "markdown",
   "id": "81ff3b7d",
   "metadata": {},
   "source": [
    "#####\n",
    "Many Python objects can be converted to a string using the str function."
   ]
  },
  {
   "cell_type": "code",
   "execution_count": 122,
   "id": "416d4e89",
   "metadata": {},
   "outputs": [],
   "source": [
    "a = 5.6"
   ]
  },
  {
   "cell_type": "code",
   "execution_count": 123,
   "id": "7a75c01e",
   "metadata": {},
   "outputs": [],
   "source": [
    "s = str(a)"
   ]
  },
  {
   "cell_type": "code",
   "execution_count": 124,
   "id": "d4bbd3ec",
   "metadata": {},
   "outputs": [
    {
     "name": "stdout",
     "output_type": "stream",
     "text": [
      "5.6\n"
     ]
    }
   ],
   "source": [
    "print(s)"
   ]
  },
  {
   "cell_type": "markdown",
   "id": "edc15d76",
   "metadata": {},
   "source": [
    "#####\n",
    "Strings are a sequence of Unicode characters and therefore can be treated like other sequences, such as lists and tuples."
   ]
  },
  {
   "cell_type": "code",
   "execution_count": 125,
   "id": "19e1f46f",
   "metadata": {},
   "outputs": [],
   "source": [
    "s = \"python\""
   ]
  },
  {
   "cell_type": "code",
   "execution_count": 126,
   "id": "92fa3487",
   "metadata": {},
   "outputs": [
    {
     "data": {
      "text/plain": [
       "['p', 'y', 't', 'h', 'o', 'n']"
      ]
     },
     "execution_count": 126,
     "metadata": {},
     "output_type": "execute_result"
    }
   ],
   "source": [
    "list(s)"
   ]
  },
  {
   "cell_type": "code",
   "execution_count": null,
   "id": "d424196e",
   "metadata": {},
   "outputs": [
    {
     "data": {
      "text/plain": [
       "'pyt'"
      ]
     },
     "execution_count": 127,
     "metadata": {},
     "output_type": "execute_result"
    }
   ],
   "source": [
    "s[:3] # This slicing operation returns the first three characters of the string"
   ]
  },
  {
   "cell_type": "code",
   "execution_count": null,
   "id": "cbfd7559",
   "metadata": {},
   "outputs": [
    {
     "data": {
      "text/plain": [
       "'hon'"
      ]
     },
     "execution_count": 130,
     "metadata": {},
     "output_type": "execute_result"
    }
   ],
   "source": [
    "s[3:] # This slicing operation returns the characters from position 3 to the end of the string"
   ]
  },
  {
   "cell_type": "code",
   "execution_count": 131,
   "id": "922f16d6",
   "metadata": {},
   "outputs": [],
   "source": [
    "s = \"12\\\\34\" # This is a string with an escaped backslash (meaning that it is used to specify special characters like newline \\n or Unicode characters)"
   ]
  },
  {
   "cell_type": "code",
   "execution_count": 132,
   "id": "16fe312a",
   "metadata": {},
   "outputs": [
    {
     "name": "stdout",
     "output_type": "stream",
     "text": [
      "12\\34\n"
     ]
    }
   ],
   "source": [
    "print(s)"
   ]
  },
  {
   "cell_type": "markdown",
   "id": "1f53fc0c",
   "metadata": {},
   "source": [
    "#####\n",
    "If you have a string with a lot of backslashes and no special characters, you might find this a bit annoying. Fortunately you can preface the leading quote of the string with r, which means that the characters should be interpreted as is."
   ]
  },
  {
   "cell_type": "code",
   "execution_count": 135,
   "id": "7efb51a6",
   "metadata": {},
   "outputs": [],
   "source": [
    "s = r\"this\\has\\no\\special\\characters\" # r stands for raw string, meaning that the characters should be interpreted as is."
   ]
  },
  {
   "cell_type": "code",
   "execution_count": 134,
   "id": "68c361fe",
   "metadata": {},
   "outputs": [
    {
     "data": {
      "text/plain": [
       "'this\\\\has\\\\no\\\\special\\\\characters'"
      ]
     },
     "execution_count": 134,
     "metadata": {},
     "output_type": "execute_result"
    }
   ],
   "source": [
    "s"
   ]
  },
  {
   "cell_type": "markdown",
   "id": "7acf34f1",
   "metadata": {},
   "source": [
    "#####\n",
    "Adding two strings together concatenates them and produces a new string."
   ]
  },
  {
   "cell_type": "code",
   "execution_count": 136,
   "id": "9a8fa551",
   "metadata": {},
   "outputs": [],
   "source": [
    "a = \"this is the first half \""
   ]
  },
  {
   "cell_type": "code",
   "execution_count": 137,
   "id": "4283b1e8",
   "metadata": {},
   "outputs": [],
   "source": [
    "b = \"and this is the second half\""
   ]
  },
  {
   "cell_type": "code",
   "execution_count": 138,
   "id": "b0c0f757",
   "metadata": {},
   "outputs": [
    {
     "data": {
      "text/plain": [
       "'this is the first half and this is the second half'"
      ]
     },
     "execution_count": 138,
     "metadata": {},
     "output_type": "execute_result"
    }
   ],
   "source": [
    "a + b"
   ]
  },
  {
   "cell_type": "markdown",
   "id": "18ccda17",
   "metadata": {},
   "source": [
    "#####\n",
    "String objects have a format method\n",
    "that can be used to substitute formatted arguments into the string, producing a new string."
   ]
  },
  {
   "cell_type": "code",
   "execution_count": 139,
   "id": "a46195d7",
   "metadata": {},
   "outputs": [],
   "source": [
    "template = \"{0:.2f} {1:s} are worth US${2:d}\""
   ]
  },
  {
   "cell_type": "markdown",
   "id": "1145e696",
   "metadata": {},
   "source": [
    "#####\n",
    "In this string:\n",
    "\n",
    "• {0:.2f} means to format the first argument as a floating-point number with two decimal places.\n",
    "\n",
    "• {1:s} means to format the second argument as a string.\n",
    "\n",
    "• {2:d} means to format the third argument as an exact integer.\n",
    "\n",
    "To substitute arguments for these format parameters, we pass a sequence of arguments to the format method.\n"
   ]
  },
  {
   "cell_type": "code",
   "execution_count": 140,
   "id": "0d1ff4c1",
   "metadata": {},
   "outputs": [
    {
     "data": {
      "text/plain": [
       "'88.46 Argentine Pesos are worth US$1'"
      ]
     },
     "execution_count": 140,
     "metadata": {},
     "output_type": "execute_result"
    }
   ],
   "source": [
    "template.format(88.46, \"Argentine Pesos\", 1)"
   ]
  },
  {
   "cell_type": "markdown",
   "id": "d43177de",
   "metadata": {},
   "source": [
    "#####\n",
    "The f-strings(formatted string literals) makes creating formatted strings even more convenient.\n",
    "\n",
    "The f-string is created when the character f is written immediately preceding a string literal.\n",
    "\n",
    "Within the string, enclose Python expressions in curly braces to substitute the value of the expression into the formatted string:\n"
   ]
  },
  {
   "cell_type": "code",
   "execution_count": 141,
   "id": "a8a97fb3",
   "metadata": {},
   "outputs": [],
   "source": [
    "amount = 10"
   ]
  },
  {
   "cell_type": "code",
   "execution_count": 142,
   "id": "6f436800",
   "metadata": {},
   "outputs": [],
   "source": [
    "rate = 88.46"
   ]
  },
  {
   "cell_type": "code",
   "execution_count": 143,
   "id": "15411ef0",
   "metadata": {},
   "outputs": [],
   "source": [
    "currency = \"Pesos\""
   ]
  },
  {
   "cell_type": "code",
   "execution_count": 144,
   "id": "62b65372",
   "metadata": {},
   "outputs": [],
   "source": [
    "result = f\"{amount} {currency} is worth US${amount / rate}\""
   ]
  },
  {
   "cell_type": "markdown",
   "id": "3a79ac50",
   "metadata": {},
   "source": [
    "#####\n",
    "Format specifiers can be added after each expression using the same syntax as with the string templates above."
   ]
  },
  {
   "cell_type": "code",
   "execution_count": 145,
   "id": "759a3d3f",
   "metadata": {},
   "outputs": [
    {
     "data": {
      "text/plain": [
       "'10 Pesos is worth US$0.11'"
      ]
     },
     "execution_count": 145,
     "metadata": {},
     "output_type": "execute_result"
    }
   ],
   "source": [
    "f\"{amount} {currency} is worth US${amount / rate:.2f}\""
   ]
  },
  {
   "cell_type": "markdown",
   "id": "887e167c",
   "metadata": {},
   "source": [
    "#### Bytes and Unicode\n",
    "\n",
    "Bytes and Unicode are fundamental concepts for handling text and binary data in Python.\n",
    "\n",
    "Unicode is a standard for representing text characters from all languages. In Python, strings are Unicode by default.\n",
    "\n",
    "Bytes represent raw binary data - sequences of integers from 0-255. They're used for files, network communication, and when you need to store text in a specific encoding.\n"
   ]
  },
  {
   "cell_type": "code",
   "execution_count": 146,
   "id": "a9b72d1b",
   "metadata": {},
   "outputs": [
    {
     "name": "stdout",
     "output_type": "stream",
     "text": [
      "Hello, 世界!\n",
      "Python is fun! 🐍✨\n",
      "مرحبا بالعالم\n",
      "65\n",
      "A\n",
      "19990\n"
     ]
    }
   ],
   "source": [
    "# Unicode strings \n",
    "text = \"Hello, 世界!\"  # Mix of English and Chinese characters\n",
    "emoji_text = \"Python is fun! 🐍✨\"\n",
    "arabic_text = \"مرحبا بالعالم\"\n",
    "\n",
    "print(text)        # Output: Hello, 世界!\n",
    "print(emoji_text)  # Output: Python is fun! 🐍✨\n",
    "print(arabic_text) # Output: مرحبا بالعالم\n",
    "\n",
    "# Unicode code points\n",
    "print(ord('A'))    # Output: 65 (Unicode code point for 'A')\n",
    "print(chr(65))     # Output: A (character from code point)\n",
    "print(ord('世'))   # Output: 19990 (Unicode code point for Chinese character)"
   ]
  },
  {
   "cell_type": "code",
   "execution_count": 147,
   "id": "0b4683eb",
   "metadata": {},
   "outputs": [
    {
     "name": "stdout",
     "output_type": "stream",
     "text": [
      "b'Hello'\n",
      "<class 'bytes'>\n",
      "b'Hello'\n",
      "72\n"
     ]
    }
   ],
   "source": [
    "# Creating bytes\n",
    "binary_data = b\"Hello\"  # Bytes literal (only ASCII characters)\n",
    "print(binary_data)      # Output: b'Hello'\n",
    "print(type(binary_data)) # Output: <class 'bytes'>\n",
    "\n",
    "# Bytes from integers\n",
    "byte_array = bytes([72, 101, 108, 108, 111])  # ASCII values for \"Hello\"\n",
    "print(byte_array)  # Output: b'Hello'\n",
    "\n",
    "# Individual byte access\n",
    "print(binary_data[0])  # Output: 72 (ASCII value of 'H')"
   ]
  },
  {
   "cell_type": "code",
   "execution_count": 148,
   "id": "abf88df1",
   "metadata": {},
   "outputs": [],
   "source": [
    "val = \"español\""
   ]
  },
  {
   "cell_type": "code",
   "execution_count": 149,
   "id": "4b427265",
   "metadata": {},
   "outputs": [
    {
     "data": {
      "text/plain": [
       "'español'"
      ]
     },
     "execution_count": 149,
     "metadata": {},
     "output_type": "execute_result"
    }
   ],
   "source": [
    "val"
   ]
  },
  {
   "cell_type": "markdown",
   "id": "6b0950f3",
   "metadata": {},
   "source": [
    "#####\n",
    "The Unicode string is converted to its UTF-8 bytes representation using the encode method."
   ]
  },
  {
   "cell_type": "code",
   "execution_count": 150,
   "id": "5935a455",
   "metadata": {},
   "outputs": [],
   "source": [
    "val_utf8 = val.encode(\"utf-8\")"
   ]
  },
  {
   "cell_type": "code",
   "execution_count": 151,
   "id": "84d745a4",
   "metadata": {},
   "outputs": [
    {
     "data": {
      "text/plain": [
       "b'espa\\xc3\\xb1ol'"
      ]
     },
     "execution_count": 151,
     "metadata": {},
     "output_type": "execute_result"
    }
   ],
   "source": [
    "val_utf8"
   ]
  },
  {
   "cell_type": "code",
   "execution_count": 152,
   "id": "998bb6db",
   "metadata": {},
   "outputs": [
    {
     "data": {
      "text/plain": [
       "bytes"
      ]
     },
     "execution_count": 152,
     "metadata": {},
     "output_type": "execute_result"
    }
   ],
   "source": [
    "type(val_utf8)"
   ]
  },
  {
   "cell_type": "markdown",
   "id": "ac023bea",
   "metadata": {},
   "source": [
    "#####\n",
    "Assuming you know the Unicode encoding of a bytes object, you can go back using\n",
    "the decode method."
   ]
  },
  {
   "cell_type": "code",
   "execution_count": 153,
   "id": "d8e1e989",
   "metadata": {},
   "outputs": [
    {
     "data": {
      "text/plain": [
       "'español'"
      ]
     },
     "execution_count": 153,
     "metadata": {},
     "output_type": "execute_result"
    }
   ],
   "source": [
    "val_utf8.decode(\"utf-8\")"
   ]
  },
  {
   "cell_type": "markdown",
   "id": "28ec8cf7",
   "metadata": {},
   "source": [
    "#####\n",
    "While it is now preferable to use UTF-8 for any encoding, for historical reasons you may encounter data in any number of different encodings."
   ]
  },
  {
   "cell_type": "code",
   "execution_count": 154,
   "id": "11415f8a",
   "metadata": {},
   "outputs": [
    {
     "data": {
      "text/plain": [
       "b'espa\\xf1ol'"
      ]
     },
     "execution_count": 154,
     "metadata": {},
     "output_type": "execute_result"
    }
   ],
   "source": [
    "val.encode(\"latin1\")"
   ]
  },
  {
   "cell_type": "code",
   "execution_count": 155,
   "id": "fdf36880",
   "metadata": {},
   "outputs": [
    {
     "data": {
      "text/plain": [
       "b'\\xff\\xfee\\x00s\\x00p\\x00a\\x00\\xf1\\x00o\\x00l\\x00'"
      ]
     },
     "execution_count": 155,
     "metadata": {},
     "output_type": "execute_result"
    }
   ],
   "source": [
    "val.encode(\"utf-16\")"
   ]
  },
  {
   "cell_type": "code",
   "execution_count": 156,
   "id": "7e71d37c",
   "metadata": {},
   "outputs": [
    {
     "data": {
      "text/plain": [
       "b'e\\x00s\\x00p\\x00a\\x00\\xf1\\x00o\\x00l\\x00'"
      ]
     },
     "execution_count": 156,
     "metadata": {},
     "output_type": "execute_result"
    }
   ],
   "source": [
    "val.encode(\"utf-16le\")"
   ]
  },
  {
   "cell_type": "markdown",
   "id": "bd59cad5",
   "metadata": {},
   "source": [
    "#####\n",
    "It is most common to encounter bytes objects in the context of working with files, where implicitly decoding all data to Unicode strings may not be desired."
   ]
  },
  {
   "cell_type": "markdown",
   "id": "025b40a9",
   "metadata": {},
   "source": [
    "#### Booleans\n",
    "\n",
    "They include two values True and False.\n",
    "\n",
    "Comparisons and other conditional expressions evaluate to either True or False.\n",
    "\n",
    "They are combined with the \"and\" and \"or\" keywords."
   ]
  },
  {
   "cell_type": "code",
   "execution_count": 157,
   "id": "dff16a08",
   "metadata": {},
   "outputs": [
    {
     "data": {
      "text/plain": [
       "True"
      ]
     },
     "execution_count": 157,
     "metadata": {},
     "output_type": "execute_result"
    }
   ],
   "source": [
    "True and True"
   ]
  },
  {
   "cell_type": "code",
   "execution_count": 158,
   "id": "ce0c33fb",
   "metadata": {},
   "outputs": [
    {
     "data": {
      "text/plain": [
       "True"
      ]
     },
     "execution_count": 158,
     "metadata": {},
     "output_type": "execute_result"
    }
   ],
   "source": [
    "False or True"
   ]
  },
  {
   "cell_type": "markdown",
   "id": "7b684e71",
   "metadata": {},
   "source": [
    "#####\n",
    "When converted to numbers, False becomes 0 and True becomes 1."
   ]
  },
  {
   "cell_type": "code",
   "execution_count": 159,
   "id": "a7050c8a",
   "metadata": {},
   "outputs": [
    {
     "data": {
      "text/plain": [
       "0"
      ]
     },
     "execution_count": 159,
     "metadata": {},
     "output_type": "execute_result"
    }
   ],
   "source": [
    "int(False)"
   ]
  },
  {
   "cell_type": "code",
   "execution_count": 160,
   "id": "8c64fd4d",
   "metadata": {},
   "outputs": [
    {
     "data": {
      "text/plain": [
       "1"
      ]
     },
     "execution_count": 160,
     "metadata": {},
     "output_type": "execute_result"
    }
   ],
   "source": [
    "int(True)"
   ]
  },
  {
   "cell_type": "markdown",
   "id": "bf2cb7e6",
   "metadata": {},
   "source": [
    "#####\n",
    "The keyword not flips a Boolean value from True to False or vice versa."
   ]
  },
  {
   "cell_type": "code",
   "execution_count": 161,
   "id": "8b5c396b",
   "metadata": {},
   "outputs": [],
   "source": [
    "a = True"
   ]
  },
  {
   "cell_type": "code",
   "execution_count": 162,
   "id": "245dd25c",
   "metadata": {},
   "outputs": [],
   "source": [
    "b = False"
   ]
  },
  {
   "cell_type": "code",
   "execution_count": 163,
   "id": "d5bd7426",
   "metadata": {},
   "outputs": [
    {
     "data": {
      "text/plain": [
       "False"
      ]
     },
     "execution_count": 163,
     "metadata": {},
     "output_type": "execute_result"
    }
   ],
   "source": [
    "not a "
   ]
  },
  {
   "cell_type": "code",
   "execution_count": 164,
   "id": "cb6b1512",
   "metadata": {},
   "outputs": [
    {
     "data": {
      "text/plain": [
       "True"
      ]
     },
     "execution_count": 164,
     "metadata": {},
     "output_type": "execute_result"
    }
   ],
   "source": [
    "not b"
   ]
  },
  {
   "cell_type": "markdown",
   "id": "5f6d33ed",
   "metadata": {},
   "source": [
    "#### Type Casting\n",
    "\n",
    "This is the process of converting a value from one data type to another in Python.\n",
    "\n",
    "The str, bool, int, and float types are also functions that can be used to cast values to those types."
   ]
  },
  {
   "cell_type": "code",
   "execution_count": 165,
   "id": "e82ceab7",
   "metadata": {},
   "outputs": [],
   "source": [
    "s = \"3.14159\""
   ]
  },
  {
   "cell_type": "code",
   "execution_count": 166,
   "id": "50a9f2b9",
   "metadata": {},
   "outputs": [],
   "source": [
    "fval = float(s)"
   ]
  },
  {
   "cell_type": "code",
   "execution_count": 167,
   "id": "9415337b",
   "metadata": {},
   "outputs": [],
   "source": [
    "fval = float(s)"
   ]
  },
  {
   "cell_type": "code",
   "execution_count": 168,
   "id": "ef7657c6",
   "metadata": {},
   "outputs": [
    {
     "data": {
      "text/plain": [
       "3"
      ]
     },
     "execution_count": 168,
     "metadata": {},
     "output_type": "execute_result"
    }
   ],
   "source": [
    "int(fval)"
   ]
  },
  {
   "cell_type": "code",
   "execution_count": 169,
   "id": "60246441",
   "metadata": {},
   "outputs": [
    {
     "data": {
      "text/plain": [
       "True"
      ]
     },
     "execution_count": 169,
     "metadata": {},
     "output_type": "execute_result"
    }
   ],
   "source": [
    "bool(fval)"
   ]
  },
  {
   "cell_type": "code",
   "execution_count": 170,
   "id": "b643ce23",
   "metadata": {},
   "outputs": [
    {
     "data": {
      "text/plain": [
       "False"
      ]
     },
     "execution_count": 170,
     "metadata": {},
     "output_type": "execute_result"
    }
   ],
   "source": [
    "bool(0)"
   ]
  },
  {
   "cell_type": "markdown",
   "id": "7b46c4e6",
   "metadata": {},
   "source": [
    "#####\n",
    "NB: Most nonzero values when cast to bool become True."
   ]
  },
  {
   "cell_type": "markdown",
   "id": "9daea66a",
   "metadata": {},
   "source": [
    "#### None\n",
    "\n",
    "This is Python's special value that represents \"nothing\" or \"no value.\" It's a singleton object of the NoneType class and is Python's equivalent to null in other programming languages."
   ]
  },
  {
   "cell_type": "code",
   "execution_count": 171,
   "id": "d37ec037",
   "metadata": {},
   "outputs": [],
   "source": [
    "a = None"
   ]
  },
  {
   "cell_type": "code",
   "execution_count": 172,
   "id": "5123368e",
   "metadata": {},
   "outputs": [
    {
     "data": {
      "text/plain": [
       "True"
      ]
     },
     "execution_count": 172,
     "metadata": {},
     "output_type": "execute_result"
    }
   ],
   "source": [
    "a is None"
   ]
  },
  {
   "cell_type": "code",
   "execution_count": 173,
   "id": "22e76f2b",
   "metadata": {},
   "outputs": [],
   "source": [
    "b = 5"
   ]
  },
  {
   "cell_type": "code",
   "execution_count": 174,
   "id": "c8888ace",
   "metadata": {},
   "outputs": [
    {
     "data": {
      "text/plain": [
       "True"
      ]
     },
     "execution_count": 174,
     "metadata": {},
     "output_type": "execute_result"
    }
   ],
   "source": [
    "b is not None"
   ]
  },
  {
   "cell_type": "markdown",
   "id": "f30d6192",
   "metadata": {},
   "source": [
    "#####\n",
    "None is also a common default value for function arguments"
   ]
  },
  {
   "cell_type": "code",
   "execution_count": 175,
   "id": "7ee68025",
   "metadata": {},
   "outputs": [],
   "source": [
    "def add_and_maybe_multiply(a, b, c=None):\n",
    "    result = a + b\n",
    "\n",
    "    if c is not None:\n",
    "        result = result * c\n",
    "    return result    "
   ]
  },
  {
   "cell_type": "markdown",
   "id": "d56054e6",
   "metadata": {},
   "source": [
    "#### Dates and Times\n",
    "This is an built-in module that provides datetime, date, and time types. The datetime type combines the information stored in date and time and is the most commonly used."
   ]
  },
  {
   "cell_type": "code",
   "execution_count": 176,
   "id": "83b5155f",
   "metadata": {},
   "outputs": [],
   "source": [
    "from datetime import datetime, date, time"
   ]
  },
  {
   "cell_type": "code",
   "execution_count": 180,
   "id": "a3136d76",
   "metadata": {},
   "outputs": [],
   "source": [
    "dt = datetime(2011, 10, 29, 20, 30, 21)"
   ]
  },
  {
   "cell_type": "code",
   "execution_count": 181,
   "id": "fae3e947",
   "metadata": {},
   "outputs": [
    {
     "data": {
      "text/plain": [
       "29"
      ]
     },
     "execution_count": 181,
     "metadata": {},
     "output_type": "execute_result"
    }
   ],
   "source": [
    "dt.day"
   ]
  },
  {
   "cell_type": "code",
   "execution_count": 182,
   "id": "6991bc4a",
   "metadata": {},
   "outputs": [
    {
     "data": {
      "text/plain": [
       "30"
      ]
     },
     "execution_count": 182,
     "metadata": {},
     "output_type": "execute_result"
    }
   ],
   "source": [
    "dt.minute"
   ]
  },
  {
   "cell_type": "markdown",
   "id": "45a2f50b",
   "metadata": {},
   "source": [
    "#####\n",
    "Given a datetime instance, you can extract the equivalent date and time objects by calling methods on the datetime of the same name."
   ]
  },
  {
   "cell_type": "code",
   "execution_count": 183,
   "id": "9c37c9c5",
   "metadata": {},
   "outputs": [
    {
     "data": {
      "text/plain": [
       "datetime.date(2011, 10, 29)"
      ]
     },
     "execution_count": 183,
     "metadata": {},
     "output_type": "execute_result"
    }
   ],
   "source": [
    "dt.date()"
   ]
  },
  {
   "cell_type": "code",
   "execution_count": 184,
   "id": "09e17298",
   "metadata": {},
   "outputs": [
    {
     "data": {
      "text/plain": [
       "datetime.time(20, 30, 21)"
      ]
     },
     "execution_count": 184,
     "metadata": {},
     "output_type": "execute_result"
    }
   ],
   "source": [
    "dt.time()"
   ]
  },
  {
   "cell_type": "markdown",
   "id": "772cc587",
   "metadata": {},
   "source": [
    "#####\n",
    "The strftime method formats a datetime as a string."
   ]
  },
  {
   "cell_type": "code",
   "execution_count": 185,
   "id": "4ec15a0a",
   "metadata": {},
   "outputs": [
    {
     "data": {
      "text/plain": [
       "'2011-10-29 20:30:21'"
      ]
     },
     "execution_count": 185,
     "metadata": {},
     "output_type": "execute_result"
    }
   ],
   "source": [
    "dt.strftime(\"%Y-%m-%d %H:%M:%S\")"
   ]
  },
  {
   "cell_type": "code",
   "execution_count": 186,
   "id": "50313444",
   "metadata": {},
   "outputs": [
    {
     "data": {
      "text/plain": [
       "'2011-10-29 20:30'"
      ]
     },
     "execution_count": 186,
     "metadata": {},
     "output_type": "execute_result"
    }
   ],
   "source": [
    "dt.strftime(\"%Y-%m-%d %H:%M\")\n"
   ]
  },
  {
   "cell_type": "markdown",
   "id": "adf12b92",
   "metadata": {},
   "source": [
    "#####\n",
    "Strings can be converted (parsed) into datetime objects with the strptime function."
   ]
  },
  {
   "cell_type": "code",
   "execution_count": 187,
   "id": "6fbd3b7a",
   "metadata": {},
   "outputs": [
    {
     "data": {
      "text/plain": [
       "datetime.datetime(2009, 10, 31, 0, 0)"
      ]
     },
     "execution_count": 187,
     "metadata": {},
     "output_type": "execute_result"
    }
   ],
   "source": [
    "datetime.strptime(\"20091031\", \"%Y%m%d\")"
   ]
  },
  {
   "cell_type": "markdown",
   "id": "7dc8a09a",
   "metadata": {},
   "source": [
    "#####\n",
    "When you are aggregating or otherwise grouping time series data, it will occasionally be useful to replace time fields of a series of datetimes—for example, replacing the minute and second fields with zero."
   ]
  },
  {
   "cell_type": "code",
   "execution_count": 188,
   "id": "bc1a23d1",
   "metadata": {},
   "outputs": [],
   "source": [
    "dt_hour = dt.replace(minute=0, second=0)"
   ]
  },
  {
   "cell_type": "code",
   "execution_count": 189,
   "id": "ee462793",
   "metadata": {},
   "outputs": [
    {
     "data": {
      "text/plain": [
       "datetime.datetime(2011, 10, 29, 20, 0)"
      ]
     },
     "execution_count": 189,
     "metadata": {},
     "output_type": "execute_result"
    }
   ],
   "source": [
    "dt_hour"
   ]
  },
  {
   "cell_type": "markdown",
   "id": "ba255d64",
   "metadata": {},
   "source": [
    "#####\n",
    "Since datetime.datetime is an immutable type, methods like these always produce\n",
    "new objects. So in the previous example, dt is not modified by replace."
   ]
  },
  {
   "cell_type": "code",
   "execution_count": 190,
   "id": "fffd0143",
   "metadata": {},
   "outputs": [
    {
     "data": {
      "text/plain": [
       "datetime.datetime(2011, 10, 29, 20, 30, 21)"
      ]
     },
     "execution_count": 190,
     "metadata": {},
     "output_type": "execute_result"
    }
   ],
   "source": [
    "dt"
   ]
  },
  {
   "cell_type": "code",
   "execution_count": 191,
   "id": "e20b981a",
   "metadata": {},
   "outputs": [],
   "source": [
    "dt2 = datetime(2011, 11, 15, 22, 30)"
   ]
  },
  {
   "cell_type": "code",
   "execution_count": 192,
   "id": "1076d477",
   "metadata": {},
   "outputs": [],
   "source": [
    "delta = dt2 - dt"
   ]
  },
  {
   "cell_type": "code",
   "execution_count": 193,
   "id": "445686c2",
   "metadata": {},
   "outputs": [
    {
     "data": {
      "text/plain": [
       "datetime.timedelta(days=17, seconds=7179)"
      ]
     },
     "execution_count": 193,
     "metadata": {},
     "output_type": "execute_result"
    }
   ],
   "source": [
    "delta"
   ]
  },
  {
   "cell_type": "code",
   "execution_count": 194,
   "id": "fb5941f9",
   "metadata": {},
   "outputs": [
    {
     "data": {
      "text/plain": [
       "datetime.timedelta"
      ]
     },
     "execution_count": 194,
     "metadata": {},
     "output_type": "execute_result"
    }
   ],
   "source": [
    "type(delta)"
   ]
  },
  {
   "cell_type": "markdown",
   "id": "6a87a3ea",
   "metadata": {},
   "source": [
    "#####\n",
    "The output timedelta(17, 7179) indicates that the timedelta encodes an offset of 17 days and 7,179 seconds.\n",
    "\n",
    "Adding a timedelta to a datetime produces a new shifted datetime."
   ]
  },
  {
   "cell_type": "code",
   "execution_count": 195,
   "id": "84762f55",
   "metadata": {},
   "outputs": [
    {
     "data": {
      "text/plain": [
       "datetime.datetime(2011, 10, 29, 20, 30, 21)"
      ]
     },
     "execution_count": 195,
     "metadata": {},
     "output_type": "execute_result"
    }
   ],
   "source": [
    "dt"
   ]
  },
  {
   "cell_type": "code",
   "execution_count": 196,
   "id": "f48d29ec",
   "metadata": {},
   "outputs": [
    {
     "data": {
      "text/plain": [
       "datetime.datetime(2011, 11, 15, 22, 30)"
      ]
     },
     "execution_count": 196,
     "metadata": {},
     "output_type": "execute_result"
    }
   ],
   "source": [
    "dt + delta"
   ]
  },
  {
   "cell_type": "markdown",
   "id": "fd6f6f91",
   "metadata": {},
   "source": [
    "### Control Flow\n",
    "This refers to the order in which your program executes statements and makes decisions."
   ]
  },
  {
   "cell_type": "markdown",
   "id": "24d3fdc0",
   "metadata": {},
   "source": [
    "#### if, elif, and else\n",
    "\n",
    "The if statement checks a condition that, if True, evaluates the code in the block that follows."
   ]
  },
  {
   "cell_type": "code",
   "execution_count": 197,
   "id": "28cb9c56",
   "metadata": {},
   "outputs": [
    {
     "name": "stdout",
     "output_type": "stream",
     "text": [
      "It's negative\n"
     ]
    }
   ],
   "source": [
    "x = -5\n",
    "if x < 0:\n",
    "    print(\"It's negative\")"
   ]
  },
  {
   "cell_type": "markdown",
   "id": "602ff63d",
   "metadata": {},
   "source": [
    "#####\n",
    "An if statement can be optionally followed by one or more elif blocks and a catchall else block if all of the conditions are False:"
   ]
  },
  {
   "cell_type": "code",
   "execution_count": 199,
   "id": "54869f6e",
   "metadata": {},
   "outputs": [
    {
     "name": "stdout",
     "output_type": "stream",
     "text": [
      "It's negative\n"
     ]
    }
   ],
   "source": [
    "if x < 0:\n",
    " print(\"It's negative\")\n",
    "elif x == 0:\n",
    " print(\"Equal to zero\")\n",
    "elif 0 < x < 5:\n",
    " print(\"Positive but smaller than 5\")\n",
    "else:\n",
    " print(\"Positive and larger than or equal to 5\")"
   ]
  },
  {
   "cell_type": "markdown",
   "id": "b1d1e821",
   "metadata": {},
   "source": [
    "#####\n",
    "If any of the conditions are True, no further elif or else blocks will be reached.\n",
    "With a compound condition using and or or, conditions are evaluated left to right and will short-circuit."
   ]
  },
  {
   "cell_type": "code",
   "execution_count": 200,
   "id": "35dd7863",
   "metadata": {},
   "outputs": [],
   "source": [
    "a = 5; b = 7"
   ]
  },
  {
   "cell_type": "code",
   "execution_count": 201,
   "id": "d0ead41e",
   "metadata": {},
   "outputs": [],
   "source": [
    "c = 8; d = 4"
   ]
  },
  {
   "cell_type": "code",
   "execution_count": 202,
   "id": "70f4c364",
   "metadata": {},
   "outputs": [
    {
     "name": "stdout",
     "output_type": "stream",
     "text": [
      "Made it\n"
     ]
    }
   ],
   "source": [
    "if a < b or c > d:\n",
    "    print(\"Made it\")"
   ]
  },
  {
   "cell_type": "markdown",
   "id": "505b2a81",
   "metadata": {},
   "source": [
    "#### for loops\n",
    "These are for iterating over a collection (like a list or tuple) or an iterater. The standard syntax for a for loop is."
   ]
  },
  {
   "cell_type": "code",
   "execution_count": 205,
   "id": "ee27c37c",
   "metadata": {},
   "outputs": [
    {
     "ename": "SyntaxError",
     "evalue": "incomplete input (369470439.py, line 2)",
     "output_type": "error",
     "traceback": [
      "\u001b[1;36m  Cell \u001b[1;32mIn[205], line 2\u001b[1;36m\u001b[0m\n\u001b[1;33m    # do something with value\u001b[0m\n\u001b[1;37m                             ^\u001b[0m\n\u001b[1;31mSyntaxError\u001b[0m\u001b[1;31m:\u001b[0m incomplete input\n"
     ]
    }
   ],
   "source": [
    "for value in collection:\n",
    "# do something with value"
   ]
  },
  {
   "cell_type": "markdown",
   "id": "684351b0",
   "metadata": {},
   "source": [
    "##### \n",
    "One can advance a for loop to the next iteration, by skipping the remainder of the block, using the continue keyword.\n",
    "\n",
    "Consider this code, which sums up integers in a list and skips None values."
   ]
  },
  {
   "cell_type": "code",
   "execution_count": 206,
   "id": "76f5d132",
   "metadata": {},
   "outputs": [],
   "source": [
    "sequence = [1, 2, None, 4, None, 5]\n",
    "total = 0\n",
    "for value in sequence:\n",
    "    if value is None:\n",
    "        continue\n",
    "    total += value"
   ]
  },
  {
   "cell_type": "markdown",
   "id": "75128472",
   "metadata": {},
   "source": [
    "#####\n",
    "A for loop can be exited altogether with the break keyword. This code sums elements of the list until a 5 is reached."
   ]
  },
  {
   "cell_type": "code",
   "execution_count": 207,
   "id": "363effd1",
   "metadata": {},
   "outputs": [],
   "source": [
    "sequence = [1, 2, 0, 4, 6, 5, 2, 1]\n",
    "total_until_5 = 0\n",
    "for value in sequence:\n",
    "    if value == 5:\n",
    "        break\n",
    "    total_until_5 += value"
   ]
  },
  {
   "cell_type": "markdown",
   "id": "54438153",
   "metadata": {},
   "source": [
    "#####\n",
    "The break keyword only terminates the innermost for loop; any outer for loops will continue to run."
   ]
  },
  {
   "cell_type": "code",
   "execution_count": 208,
   "id": "58cfe3d3",
   "metadata": {},
   "outputs": [
    {
     "name": "stdout",
     "output_type": "stream",
     "text": [
      "(0, 0)\n",
      "(1, 0)\n",
      "(1, 1)\n",
      "(2, 0)\n",
      "(2, 1)\n",
      "(2, 2)\n",
      "(3, 0)\n",
      "(3, 1)\n",
      "(3, 2)\n",
      "(3, 3)\n"
     ]
    }
   ],
   "source": [
    "for i in range(4):\n",
    "    for j in range(4):\n",
    "        if j > i:\n",
    "            break\n",
    "        print((i, j))\n"
   ]
  },
  {
   "cell_type": "markdown",
   "id": "def4c9ca",
   "metadata": {},
   "source": [
    "#####\n",
    "if the elements in the collection or iterator are sequences (tuples or lists, say), they can be conveniently unpacked into variables in the for loop statement.\n"
   ]
  },
  {
   "cell_type": "code",
   "execution_count": 211,
   "id": "3b52e9a9",
   "metadata": {},
   "outputs": [
    {
     "ename": "SyntaxError",
     "evalue": "incomplete input (226247590.py, line 2)",
     "output_type": "error",
     "traceback": [
      "\u001b[1;36m  Cell \u001b[1;32mIn[211], line 2\u001b[1;36m\u001b[0m\n\u001b[1;33m    # do something\u001b[0m\n\u001b[1;37m                  ^\u001b[0m\n\u001b[1;31mSyntaxError\u001b[0m\u001b[1;31m:\u001b[0m incomplete input\n"
     ]
    }
   ],
   "source": [
    "for a, b, c in iterator:\n",
    "    # do something\n"
   ]
  },
  {
   "cell_type": "markdown",
   "id": "13c9ad6e",
   "metadata": {},
   "source": [
    "#### while loops\n",
    "They specify a condition and a block of code that is to be executed until the condition evaluates to False or the loop is explicitly ended with break:\n"
   ]
  },
  {
   "cell_type": "code",
   "execution_count": 2,
   "id": "ba84a6a9",
   "metadata": {},
   "outputs": [
    {
     "ename": "KeyboardInterrupt",
     "evalue": "",
     "output_type": "error",
     "traceback": [
      "\u001b[1;31m---------------------------------------------------------------------------\u001b[0m",
      "\u001b[1;31mKeyboardInterrupt\u001b[0m                         Traceback (most recent call last)",
      "Cell \u001b[1;32mIn[2], line 3\u001b[0m\n\u001b[0;32m      1\u001b[0m x \u001b[38;5;241m=\u001b[39m \u001b[38;5;241m256\u001b[39m\n\u001b[0;32m      2\u001b[0m total \u001b[38;5;241m=\u001b[39m \u001b[38;5;241m0\u001b[39m\n\u001b[1;32m----> 3\u001b[0m \u001b[38;5;28;01mwhile\u001b[39;00m \u001b[43mx\u001b[49m\u001b[43m \u001b[49m\u001b[38;5;241;43m>\u001b[39;49m\u001b[43m \u001b[49m\u001b[38;5;241;43m0\u001b[39;49m:\n\u001b[0;32m      4\u001b[0m     \u001b[38;5;28;01mif\u001b[39;00m total \u001b[38;5;241m>\u001b[39m \u001b[38;5;241m500\u001b[39m:\n\u001b[0;32m      5\u001b[0m         \u001b[38;5;28;01mbreak\u001b[39;00m\n",
      "\u001b[1;31mKeyboardInterrupt\u001b[0m: "
     ]
    }
   ],
   "source": [
    "x = 256\n",
    "total = 0\n",
    "while x > 0:\n",
    "    if total > 500:\n",
    "        break\n",
    "total += x\n",
    "x = x // 2"
   ]
  },
  {
   "cell_type": "markdown",
   "id": "df37d26a",
   "metadata": {},
   "source": [
    "#### pass\n",
    "This is the “no-op” (or “do nothing”) statement.\n",
    "\n",
    "It can be used in blocks where no action is to be taken (or as a placeholder for code not yet implemented); it is required only because Python uses whitespace to delimit blocks.\n"
   ]
  },
  {
   "cell_type": "code",
   "execution_count": 3,
   "id": "ec25b691",
   "metadata": {},
   "outputs": [
    {
     "name": "stdout",
     "output_type": "stream",
     "text": [
      "positive!\n"
     ]
    }
   ],
   "source": [
    "if x < 0:\n",
    "    print(\"negative!\")\n",
    "elif x == 0:\n",
    "    # TODO: put something smart here\n",
    "    pass\n",
    "else:\n",
    "    print(\"positive!\")\n"
   ]
  },
  {
   "cell_type": "markdown",
   "id": "43e40abf",
   "metadata": {},
   "source": [
    "#### range\n",
    "This function generates a sequence of evenly spaced integers."
   ]
  },
  {
   "cell_type": "code",
   "execution_count": 4,
   "id": "6eacdcde",
   "metadata": {},
   "outputs": [
    {
     "data": {
      "text/plain": [
       "range(0, 10)"
      ]
     },
     "execution_count": 4,
     "metadata": {},
     "output_type": "execute_result"
    }
   ],
   "source": [
    "range(10)  # Generates numbers from 0 to 9"
   ]
  },
  {
   "cell_type": "code",
   "execution_count": 5,
   "id": "c4f53d5c",
   "metadata": {},
   "outputs": [
    {
     "data": {
      "text/plain": [
       "[0, 1, 2, 3, 4, 5, 6, 7, 8, 9]"
      ]
     },
     "execution_count": 5,
     "metadata": {},
     "output_type": "execute_result"
    }
   ],
   "source": [
    "list(range(10))"
   ]
  },
  {
   "cell_type": "markdown",
   "id": "cba581c7",
   "metadata": {},
   "source": [
    "##### \n",
    "A start, end, and step (which may be negative) can be given"
   ]
  },
  {
   "cell_type": "code",
   "execution_count": 6,
   "id": "04e7b6c5",
   "metadata": {},
   "outputs": [
    {
     "data": {
      "text/plain": [
       "[0, 2, 4, 6, 8, 10, 12, 14, 16, 18]"
      ]
     },
     "execution_count": 6,
     "metadata": {},
     "output_type": "execute_result"
    }
   ],
   "source": [
    "list(range(0, 20, 2))"
   ]
  },
  {
   "cell_type": "code",
   "execution_count": 7,
   "id": "a766c06b",
   "metadata": {},
   "outputs": [
    {
     "data": {
      "text/plain": [
       "[5, 4, 3, 2, 1]"
      ]
     },
     "execution_count": 7,
     "metadata": {},
     "output_type": "execute_result"
    }
   ],
   "source": [
    "list(range(5, 0, -1))"
   ]
  },
  {
   "cell_type": "markdown",
   "id": "447ec8db",
   "metadata": {},
   "source": [
    "#####\n",
    "Rnage produces integers up to but not including the endpoint. A common use of range is for iterating through sequences by index."
   ]
  },
  {
   "cell_type": "code",
   "execution_count": 8,
   "id": "68f6d83e",
   "metadata": {},
   "outputs": [],
   "source": [
    "seq = [1, 2, 3, 4]"
   ]
  },
  {
   "cell_type": "code",
   "execution_count": 9,
   "id": "3da71b88",
   "metadata": {},
   "outputs": [
    {
     "name": "stdout",
     "output_type": "stream",
     "text": [
      "element 0: 1\n",
      "element 1: 2\n",
      "element 2: 3\n",
      "element 3: 4\n"
     ]
    }
   ],
   "source": [
    "for i in range(len(seq)):\n",
    "    print(f\"element {i}: {seq[i]}\")\n"
   ]
  },
  {
   "cell_type": "markdown",
   "id": "a0600595",
   "metadata": {},
   "source": [
    "#####\n",
    "While you can use functions like list to store all the integers generated by range in some other data structure, often the default iterator form will be what you want. This snippet sums all numbers from 0 to 99,999 that are multiples of 3 or 5."
   ]
  },
  {
   "cell_type": "code",
   "execution_count": 10,
   "id": "cb5ddbbd",
   "metadata": {},
   "outputs": [],
   "source": [
    "total = 0"
   ]
  },
  {
   "cell_type": "code",
   "execution_count": 11,
   "id": "8c384887",
   "metadata": {},
   "outputs": [],
   "source": [
    "for i in range(100_000):\n",
    "    # % is the modulo operator\n",
    "    if i % 3 == 0 or i % 5 == 0:\n",
    "        total += i"
   ]
  },
  {
   "cell_type": "code",
   "execution_count": 12,
   "id": "bed0bd15",
   "metadata": {},
   "outputs": [
    {
     "name": "stdout",
     "output_type": "stream",
     "text": [
      "2333316668\n"
     ]
    }
   ],
   "source": [
    "print(total)"
   ]
  },
  {
   "cell_type": "markdown",
   "id": "66e76a54",
   "metadata": {},
   "source": [
    "#####\n",
    "While the range generated can be arbitrarily large, the memory use at any given time may be very small."
   ]
  }
 ],
 "metadata": {
  "kernelspec": {
   "display_name": "myenv",
   "language": "python",
   "name": "python3"
  },
  "language_info": {
   "codemirror_mode": {
    "name": "ipython",
    "version": 3
   },
   "file_extension": ".py",
   "mimetype": "text/x-python",
   "name": "python",
   "nbconvert_exporter": "python",
   "pygments_lexer": "ipython3",
   "version": "3.10.16"
  }
 },
 "nbformat": 4,
 "nbformat_minor": 5
}
